{
  "nbformat": 4,
  "nbformat_minor": 0,
  "metadata": {
    "colab": {
      "name": "NMT_ger2eng_teacher_forcing.ipynb",
      "version": "0.3.2",
      "provenance": [],
      "collapsed_sections": [],
      "include_colab_link": true
    },
    "kernelspec": {
      "name": "python3",
      "display_name": "Python 3"
    },
    "accelerator": "GPU"
  },
  "cells": [
    {
      "cell_type": "markdown",
      "metadata": {
        "id": "view-in-github",
        "colab_type": "text"
      },
      "source": [
        "<a href=\"https://colab.research.google.com/github/jaydeepthik/NMT-neural-machine-translation/blob/master/NMT_ger2eng_teacher_forcing.ipynb\" target=\"_parent\"><img src=\"https://colab.research.google.com/assets/colab-badge.svg\" alt=\"Open In Colab\"/></a>"
      ]
    },
    {
      "cell_type": "code",
      "metadata": {
        "id": "lcebxS60aZlI",
        "colab_type": "code",
        "colab": {
          "base_uri": "https://localhost:8080/",
          "height": 34
        },
        "outputId": "33a01fd4-06cf-44dd-8fc2-792517c8e90b"
      },
      "source": [
        "from google.colab import drive\n",
        "drive.mount(\"/content/drive\")"
      ],
      "execution_count": 1,
      "outputs": [
        {
          "output_type": "stream",
          "text": [
            "Drive already mounted at /content/drive; to attempt to forcibly remount, call drive.mount(\"/content/drive\", force_remount=True).\n"
          ],
          "name": "stdout"
        }
      ]
    },
    {
      "cell_type": "code",
      "metadata": {
        "id": "iaQmvW1pZYuX",
        "colab_type": "code",
        "colab": {}
      },
      "source": [
        "import numpy as np\n",
        "import string\n",
        "from unicodedata import normalize\n",
        "import re\n",
        "from keras.preprocessing.text import Tokenizer\n",
        "from keras.preprocessing.sequence import pad_sequences\n",
        "from keras.utils import to_categorical\n",
        "\n",
        "#read file and make pairs\n",
        "\n",
        "def read_file(file):\n",
        "    \n",
        "    with open(file, 'r', encoding='utf8') as f:\n",
        "        pairs = [line.strip().split('\\t') for line in f]\n",
        "        #print(pairs)\n",
        "    return pairs\n",
        "\n",
        "def preprocess_pairs(data):\n",
        "    cleaned = list()\n",
        "    re_punc = re.compile('[%s]' % re.escape(string.punctuation))\n",
        "    re_print = re.compile('[^%s]' % re.escape(string.printable))    \n",
        "    \n",
        "    for pairs in data:\n",
        "      clean_pair = list()\n",
        "      for i,line in enumerate(pairs):\n",
        "        line = normalize('NFD', line).encode('ascii', 'ignore')\n",
        "        line = line.decode('utf8')\n",
        "        line = line.lower()\n",
        "        line = line.split()\n",
        "        line = [re_punc.sub('', w) for w in line]\n",
        "        line = [re_print.sub('', w) for w in line]\n",
        "        line = [word for word in line if word.isalpha()]\n",
        "        #print(line)\n",
        "        if not i:\n",
        "          line = [\"<START>\"]+line+[\"<END>\"]\n",
        "        clean_pair.append(\" \".join(line))\n",
        "      cleaned.append(clean_pair)\n",
        "    return cleaned\n",
        "\n",
        "def encode_output(sequences, vocab_size):\n",
        "  ylist = list()\n",
        "  for sequence in sequences:\n",
        "    encode = to_categorical(sequence, vocab_size)\n",
        "    ylist.append(encode)\n",
        "  y = np.array(ylist)\n",
        "  y = y.reshape(sequences.shape[0], sequences.shape[1], vocab_size)\n",
        "  return y"
      ],
      "execution_count": 0,
      "outputs": []
    },
    {
      "cell_type": "code",
      "metadata": {
        "id": "vbIchCAmba_5",
        "colab_type": "code",
        "outputId": "71471e89-b85c-4879-b742-8e8d4353ce64",
        "colab": {
          "base_uri": "https://localhost:8080/",
          "height": 85
        }
      },
      "source": [
        "data = read_file(\"/content/drive/My Drive/Colab Notebooks/nmt_data/deu-eng/deu.txt\")\n",
        "data = preprocess_pairs(data)\n",
        "#data = np.array(data)\n",
        "#np.random.shuffle(data)\n",
        "n_sentences = 60000\n",
        "\n",
        "reduced_data = data[:40000]\n",
        "reduced_data = np.array(reduced_data)\n",
        "np.random.shuffle(reduced_data)\n",
        "\n",
        "train_data, test_data = reduced_data[:30000], reduced_data[30000:]\n",
        "print(train_data[0])\n",
        "print(train_data[1])\n",
        "print(test_data[0])\n",
        "print(test_data[1])"
      ],
      "execution_count": 4,
      "outputs": [
        {
          "output_type": "stream",
          "text": [
            "['<START> my father isnt home <END>' 'mein vater ist nicht zuhause']\n",
            "['<START> are you in trouble <END>' 'bist du in schwierigkeiten']\n",
            "['<START> i do want it <END>' 'ich mochte es']\n",
            "['<START> he kept his word <END>' 'er hat sein wort gehalten']\n"
          ],
          "name": "stdout"
        }
      ]
    },
    {
      "cell_type": "code",
      "metadata": {
        "id": "xUdsmywzE30D",
        "colab_type": "code",
        "colab": {
          "base_uri": "https://localhost:8080/",
          "height": 34
        },
        "outputId": "15ff0fc0-2513-46e4-88b9-6261032b658c"
      },
      "source": [
        "len(data)"
      ],
      "execution_count": 5,
      "outputs": [
        {
          "output_type": "execute_result",
          "data": {
            "text/plain": [
              "192881"
            ]
          },
          "metadata": {
            "tags": []
          },
          "execution_count": 5
        }
      ]
    },
    {
      "cell_type": "code",
      "metadata": {
        "id": "MyAzc_PNcRfG",
        "colab_type": "code",
        "colab": {}
      },
      "source": [
        "eng_tokenizer = Tokenizer(filters='\"#$%&()*+,./:;=@[\\\\]^_`{|}~\\t\\n', lower=False)\n",
        "eng_tokenizer.fit_on_texts(reduced_data[:,0])\n",
        "eng_vocab_size = len(eng_tokenizer.word_index) + 1\n",
        "eng_max_len = max(len(line.split()) for line in reduced_data[:,0])\n",
        "\n",
        "ger_tokenizer = Tokenizer(filters='\"#$%&()*+,./:;=@[\\\\]^_`{|}~\\t\\n', lower=False)\n",
        "ger_tokenizer.fit_on_texts(reduced_data[:,1])\n",
        "ger_vocab_size = len(ger_tokenizer.word_index)+1\n",
        "ger_max_len = max(len(line.split()) for line in reduced_data[:,1])\n",
        "\n",
        "\n",
        "X_train_inp = ger_tokenizer.texts_to_sequences(train_data[:,1])\n",
        "X_train_inp = pad_sequences(X_train_inp, maxlen=ger_max_len, padding='post')\n",
        "\n",
        "y_train = eng_tokenizer.texts_to_sequences(train_data[:,0])\n",
        "y_train_inp = pad_sequences(y_train, maxlen=eng_max_len, padding='post')\n",
        "\n",
        "\n",
        "#y_train_op = y_train[:,1:].tolist()\n",
        "y_train_op = pad_sequences(y_train, maxlen=eng_max_len+1, padding='post')\n",
        "y_train_op = y_train_op[:,1:]\n",
        "y_train_op_encoded = encode_output(y_train_op, eng_vocab_size)\n",
        "\n",
        "#print(y_train_op[0])\n",
        "X_test = ger_tokenizer.texts_to_sequences(test_data[:,1])\n",
        "X_test = pad_sequences(X_test, maxlen=ger_max_len, padding='post')\n",
        "\n",
        "\n",
        "y_test = eng_tokenizer.texts_to_sequences(test_data[:,0])\n",
        "y_test = pad_sequences(y_test, maxlen=eng_max_len, padding='post')\n",
        "y_test_enc = encode_output(y_test, eng_vocab_size)\n",
        "\n",
        "\n"
      ],
      "execution_count": 0,
      "outputs": []
    },
    {
      "cell_type": "code",
      "metadata": {
        "id": "YcYImAfH41JU",
        "colab_type": "code",
        "outputId": "f84c9112-6c61-4c4f-c79d-a63c96e905a8",
        "colab": {
          "base_uri": "https://localhost:8080/",
          "height": 51
        }
      },
      "source": [
        "print(y_train_inp.shape, y_train_op.shape, y_train_op_encoded.shape)\n",
        "print(y_train_inp[0], y_train_op[0])\n"
      ],
      "execution_count": 7,
      "outputs": [
        {
          "output_type": "stream",
          "text": [
            "(30000, 8) (30000, 8) (30000, 8, 5539)\n",
            "[  1  18 224  56  70   2   0   0] [ 18 224  56  70   2   0   0   0]\n"
          ],
          "name": "stdout"
        }
      ]
    },
    {
      "cell_type": "markdown",
      "metadata": {
        "id": "a1LPtY2jifnk",
        "colab_type": "text"
      },
      "source": [
        "ENGLISH 2 GERMAN"
      ]
    },
    {
      "cell_type": "code",
      "metadata": {
        "id": "5KKo4WRxb1nT",
        "colab_type": "code",
        "outputId": "0f1bc39a-9b88-4653-ea55-0acce90844de",
        "colab": {
          "base_uri": "https://localhost:8080/",
          "height": 2655
        }
      },
      "source": [
        "#model ger -> eng\n",
        "\n",
        "from keras.models import Model\n",
        "from keras.layers import LSTM, Dense, Input, Embedding, TimeDistributed\n",
        "\n",
        "g2e_enc_inp = Input(shape=(None,))\n",
        "g2e_enc_emb = Embedding(input_dim=ger_vocab_size, output_dim=50, mask_zero=True)\n",
        "g2e_enc_x   = g2e_enc_emb(g2e_enc_inp)\n",
        "g2e_enc_lstm  = LSTM(50, return_state=True)\n",
        "g2e_enc_x, g2e_state_h, g2e_state_c = g2e_enc_lstm(g2e_enc_x)\n",
        "g2e_states = [g2e_state_h, g2e_state_c]\n",
        "\n",
        "g2e_dec_inp = Input(shape=(None,))\n",
        "g2e_dec_emb = Embedding(input_dim=eng_vocab_size, output_dim=50, mask_zero=True)\n",
        "g2e_dec_x = g2e_dec_emb(g2e_dec_inp)\n",
        "g2e_dec_lstm = LSTM(50, return_sequences=True, return_state=True)\n",
        "g2e_dec_x,_,_ = g2e_dec_lstm(g2e_dec_x, initial_state=g2e_states)\n",
        "g2e_dec_dense= Dense(eng_vocab_size, activation='softmax')\n",
        "\n",
        "g2e_dec_op = g2e_dec_dense(g2e_dec_x)\n",
        "\n",
        "g2e_model =  Model([g2e_enc_inp, g2e_dec_inp], g2e_dec_op)\n",
        "g2e_model.compile(optimizer='rmsprop', loss='categorical_crossentropy', metrics=['acc'])\n",
        "g2e_model.summary()\n",
        "\n",
        "g2e_model.fit([X_train_inp, y_train_inp], y_train_op_encoded, batch_size=64, epochs=60, validation_split=0.2,shuffle=True)\n"
      ],
      "execution_count": 9,
      "outputs": [
        {
          "output_type": "stream",
          "text": [
            "WARNING:tensorflow:From /usr/local/lib/python3.6/dist-packages/tensorflow/python/framework/op_def_library.py:263: colocate_with (from tensorflow.python.framework.ops) is deprecated and will be removed in a future version.\n",
            "Instructions for updating:\n",
            "Colocations handled automatically by placer.\n",
            "__________________________________________________________________________________________________\n",
            "Layer (type)                    Output Shape         Param #     Connected to                     \n",
            "==================================================================================================\n",
            "input_1 (InputLayer)            (None, None)         0                                            \n",
            "__________________________________________________________________________________________________\n",
            "input_2 (InputLayer)            (None, None)         0                                            \n",
            "__________________________________________________________________________________________________\n",
            "embedding_1 (Embedding)         (None, None, 50)     449300      input_1[0][0]                    \n",
            "__________________________________________________________________________________________________\n",
            "embedding_2 (Embedding)         (None, None, 50)     276950      input_2[0][0]                    \n",
            "__________________________________________________________________________________________________\n",
            "lstm_1 (LSTM)                   [(None, 50), (None,  20200       embedding_1[0][0]                \n",
            "__________________________________________________________________________________________________\n",
            "lstm_2 (LSTM)                   [(None, None, 50), ( 20200       embedding_2[0][0]                \n",
            "                                                                 lstm_1[0][1]                     \n",
            "                                                                 lstm_1[0][2]                     \n",
            "__________________________________________________________________________________________________\n",
            "dense_1 (Dense)                 (None, None, 5539)   282489      lstm_2[0][0]                     \n",
            "==================================================================================================\n",
            "Total params: 1,049,139\n",
            "Trainable params: 1,049,139\n",
            "Non-trainable params: 0\n",
            "__________________________________________________________________________________________________\n",
            "WARNING:tensorflow:From /usr/local/lib/python3.6/dist-packages/tensorflow/python/ops/math_ops.py:3066: to_int32 (from tensorflow.python.ops.math_ops) is deprecated and will be removed in a future version.\n",
            "Instructions for updating:\n",
            "Use tf.cast instead.\n",
            "WARNING:tensorflow:From /usr/local/lib/python3.6/dist-packages/tensorflow/python/ops/math_grad.py:102: div (from tensorflow.python.ops.math_ops) is deprecated and will be removed in a future version.\n",
            "Instructions for updating:\n",
            "Deprecated in favor of operator or tf.math.divide.\n",
            "Train on 24000 samples, validate on 6000 samples\n",
            "Epoch 1/60\n",
            "24000/24000 [==============================] - 25s 1ms/step - loss: 4.6476 - acc: 0.2957 - val_loss: 3.8355 - val_acc: 0.4011\n",
            "Epoch 2/60\n",
            "24000/24000 [==============================] - 20s 847us/step - loss: 3.6144 - acc: 0.4291 - val_loss: 3.4882 - val_acc: 0.4504\n",
            "Epoch 3/60\n",
            "24000/24000 [==============================] - 20s 850us/step - loss: 3.3173 - acc: 0.4674 - val_loss: 3.2522 - val_acc: 0.4787\n",
            "Epoch 4/60\n",
            "24000/24000 [==============================] - 20s 841us/step - loss: 3.0965 - acc: 0.4946 - val_loss: 3.0733 - val_acc: 0.4995\n",
            "Epoch 5/60\n",
            "24000/24000 [==============================] - 21s 893us/step - loss: 2.9279 - acc: 0.5145 - val_loss: 2.9506 - val_acc: 0.5202\n",
            "Epoch 6/60\n",
            "24000/24000 [==============================] - 20s 848us/step - loss: 2.7867 - acc: 0.5372 - val_loss: 2.8267 - val_acc: 0.5397\n",
            "Epoch 7/60\n",
            "24000/24000 [==============================] - 21s 875us/step - loss: 2.6662 - acc: 0.5545 - val_loss: 2.7312 - val_acc: 0.5533\n",
            "Epoch 8/60\n",
            "24000/24000 [==============================] - 21s 860us/step - loss: 2.5557 - acc: 0.5694 - val_loss: 2.6432 - val_acc: 0.5680\n",
            "Epoch 9/60\n",
            "24000/24000 [==============================] - 22s 908us/step - loss: 2.4550 - acc: 0.5834 - val_loss: 2.5729 - val_acc: 0.5786\n",
            "Epoch 10/60\n",
            "24000/24000 [==============================] - 20s 839us/step - loss: 2.3728 - acc: 0.5962 - val_loss: 2.5162 - val_acc: 0.5889\n",
            "Epoch 11/60\n",
            "24000/24000 [==============================] - 20s 846us/step - loss: 2.3001 - acc: 0.6079 - val_loss: 2.4588 - val_acc: 0.5989\n",
            "Epoch 12/60\n",
            "24000/24000 [==============================] - 21s 877us/step - loss: 2.2295 - acc: 0.6184 - val_loss: 2.4110 - val_acc: 0.6070\n",
            "Epoch 13/60\n",
            "24000/24000 [==============================] - 21s 864us/step - loss: 2.1651 - acc: 0.6288 - val_loss: 2.3666 - val_acc: 0.6141\n",
            "Epoch 14/60\n",
            "24000/24000 [==============================] - 20s 841us/step - loss: 2.1098 - acc: 0.6379 - val_loss: 2.3301 - val_acc: 0.6204\n",
            "Epoch 15/60\n",
            "24000/24000 [==============================] - 20s 844us/step - loss: 2.0617 - acc: 0.6468 - val_loss: 2.2974 - val_acc: 0.6265\n",
            "Epoch 16/60\n",
            "24000/24000 [==============================] - 21s 877us/step - loss: 2.0198 - acc: 0.6545 - val_loss: 2.2714 - val_acc: 0.6306\n",
            "Epoch 17/60\n",
            "24000/24000 [==============================] - 20s 853us/step - loss: 1.9788 - acc: 0.6623 - val_loss: 2.2456 - val_acc: 0.6370\n",
            "Epoch 18/60\n",
            "24000/24000 [==============================] - 20s 851us/step - loss: 1.9456 - acc: 0.6695 - val_loss: 2.2272 - val_acc: 0.6409\n",
            "Epoch 19/60\n",
            "24000/24000 [==============================] - 20s 843us/step - loss: 1.9161 - acc: 0.6766 - val_loss: 2.2120 - val_acc: 0.6454\n",
            "Epoch 20/60\n",
            "24000/24000 [==============================] - 22s 896us/step - loss: 1.8868 - acc: 0.6835 - val_loss: 2.1992 - val_acc: 0.6499\n",
            "Epoch 21/60\n",
            "24000/24000 [==============================] - 20s 842us/step - loss: 1.8580 - acc: 0.6898 - val_loss: 2.1805 - val_acc: 0.6528\n",
            "Epoch 22/60\n",
            "24000/24000 [==============================] - 21s 866us/step - loss: 1.8257 - acc: 0.6964 - val_loss: 2.1653 - val_acc: 0.6557\n",
            "Epoch 23/60\n",
            "24000/24000 [==============================] - 20s 848us/step - loss: 1.7978 - acc: 0.7015 - val_loss: 2.1509 - val_acc: 0.6598\n",
            "Epoch 24/60\n",
            "24000/24000 [==============================] - 23s 957us/step - loss: 1.7646 - acc: 0.7071 - val_loss: 2.1272 - val_acc: 0.6629\n",
            "Epoch 25/60\n",
            "24000/24000 [==============================] - 20s 850us/step - loss: 1.7273 - acc: 0.7132 - val_loss: 2.1204 - val_acc: 0.6606\n",
            "Epoch 26/60\n",
            "24000/24000 [==============================] - 20s 848us/step - loss: 1.6964 - acc: 0.7187 - val_loss: 2.0896 - val_acc: 0.6683\n",
            "Epoch 27/60\n",
            "24000/24000 [==============================] - 20s 851us/step - loss: 1.6702 - acc: 0.7242 - val_loss: 2.0805 - val_acc: 0.6712\n",
            "Epoch 28/60\n",
            "24000/24000 [==============================] - 21s 893us/step - loss: 1.6475 - acc: 0.7299 - val_loss: 2.0728 - val_acc: 0.6736\n",
            "Epoch 29/60\n",
            "24000/24000 [==============================] - 20s 839us/step - loss: 1.6226 - acc: 0.7342 - val_loss: 2.0610 - val_acc: 0.6756\n",
            "Epoch 30/60\n",
            "24000/24000 [==============================] - 20s 840us/step - loss: 1.5959 - acc: 0.7392 - val_loss: 2.0469 - val_acc: 0.6769\n",
            "Epoch 31/60\n",
            "24000/24000 [==============================] - 20s 838us/step - loss: 1.5682 - acc: 0.7436 - val_loss: 2.0341 - val_acc: 0.6779\n",
            "Epoch 32/60\n",
            "24000/24000 [==============================] - 21s 887us/step - loss: 1.5439 - acc: 0.7478 - val_loss: 2.0184 - val_acc: 0.6815\n",
            "Epoch 33/60\n",
            "24000/24000 [==============================] - 20s 843us/step - loss: 1.5269 - acc: 0.7528 - val_loss: 2.0174 - val_acc: 0.6822\n",
            "Epoch 34/60\n",
            "24000/24000 [==============================] - 20s 843us/step - loss: 1.5125 - acc: 0.7563 - val_loss: 2.0231 - val_acc: 0.6806\n",
            "Epoch 35/60\n",
            "24000/24000 [==============================] - 20s 848us/step - loss: 1.5006 - acc: 0.7600 - val_loss: 2.0163 - val_acc: 0.6839\n",
            "Epoch 36/60\n",
            "24000/24000 [==============================] - 22s 902us/step - loss: 1.4876 - acc: 0.7632 - val_loss: 2.0120 - val_acc: 0.6873\n",
            "Epoch 37/60\n",
            "24000/24000 [==============================] - 21s 863us/step - loss: 1.4767 - acc: 0.7666 - val_loss: 2.0106 - val_acc: 0.6875\n",
            "Epoch 38/60\n",
            "24000/24000 [==============================] - 20s 835us/step - loss: 1.4670 - acc: 0.7696 - val_loss: 2.0046 - val_acc: 0.6912\n",
            "Epoch 39/60\n",
            "24000/24000 [==============================] - 22s 899us/step - loss: 1.4572 - acc: 0.7730 - val_loss: 2.0048 - val_acc: 0.6899\n",
            "Epoch 40/60\n",
            "24000/24000 [==============================] - 21s 875us/step - loss: 1.4468 - acc: 0.7762 - val_loss: 2.0065 - val_acc: 0.6895\n",
            "Epoch 41/60\n",
            "24000/24000 [==============================] - 20s 840us/step - loss: 1.4360 - acc: 0.7798 - val_loss: 2.0058 - val_acc: 0.6921\n",
            "Epoch 42/60\n",
            "24000/24000 [==============================] - 20s 829us/step - loss: 1.4246 - acc: 0.7823 - val_loss: 2.0089 - val_acc: 0.6930\n",
            "Epoch 43/60\n",
            "24000/24000 [==============================] - 20s 842us/step - loss: 1.4122 - acc: 0.7853 - val_loss: 1.9992 - val_acc: 0.6954\n",
            "Epoch 44/60\n",
            "24000/24000 [==============================] - 21s 871us/step - loss: 1.3996 - acc: 0.7876 - val_loss: 2.0028 - val_acc: 0.6946\n",
            "Epoch 45/60\n",
            "24000/24000 [==============================] - 20s 830us/step - loss: 1.3831 - acc: 0.7906 - val_loss: 1.9987 - val_acc: 0.6961\n",
            "Epoch 46/60\n",
            "24000/24000 [==============================] - 20s 830us/step - loss: 1.3618 - acc: 0.7936 - val_loss: 1.9823 - val_acc: 0.6994\n",
            "Epoch 47/60\n",
            "24000/24000 [==============================] - 20s 848us/step - loss: 1.3460 - acc: 0.7971 - val_loss: 1.9841 - val_acc: 0.6980\n",
            "Epoch 48/60\n",
            "24000/24000 [==============================] - 21s 867us/step - loss: 1.3354 - acc: 0.7989 - val_loss: 1.9752 - val_acc: 0.6997\n",
            "Epoch 49/60\n",
            "24000/24000 [==============================] - 20s 834us/step - loss: 1.3270 - acc: 0.8001 - val_loss: 1.9812 - val_acc: 0.6981\n",
            "Epoch 50/60\n",
            "24000/24000 [==============================] - 20s 834us/step - loss: 1.3175 - acc: 0.8024 - val_loss: 1.9767 - val_acc: 0.7010\n",
            "Epoch 51/60\n",
            "24000/24000 [==============================] - 20s 848us/step - loss: 1.3074 - acc: 0.8045 - val_loss: 1.9791 - val_acc: 0.6996\n",
            "Epoch 52/60\n",
            "24000/24000 [==============================] - 21s 866us/step - loss: 1.2955 - acc: 0.8066 - val_loss: 1.9738 - val_acc: 0.6998\n",
            "Epoch 53/60\n",
            "24000/24000 [==============================] - 20s 829us/step - loss: 1.2834 - acc: 0.8084 - val_loss: 1.9722 - val_acc: 0.7009\n",
            "Epoch 54/60\n",
            "24000/24000 [==============================] - 22s 899us/step - loss: 1.2740 - acc: 0.8101 - val_loss: 1.9695 - val_acc: 0.7018\n",
            "Epoch 55/60\n",
            "24000/24000 [==============================] - 21s 864us/step - loss: 1.2673 - acc: 0.8117 - val_loss: 1.9681 - val_acc: 0.7031\n",
            "Epoch 56/60\n",
            "24000/24000 [==============================] - 20s 845us/step - loss: 1.2630 - acc: 0.8138 - val_loss: 1.9709 - val_acc: 0.7032\n",
            "Epoch 57/60\n",
            "24000/24000 [==============================] - 20s 824us/step - loss: 1.2588 - acc: 0.8156 - val_loss: 1.9712 - val_acc: 0.7032\n",
            "Epoch 58/60\n",
            "24000/24000 [==============================] - 20s 827us/step - loss: 1.2557 - acc: 0.8173 - val_loss: 1.9756 - val_acc: 0.7026\n",
            "Epoch 59/60\n",
            "24000/24000 [==============================] - 21s 857us/step - loss: 1.2524 - acc: 0.8182 - val_loss: 1.9781 - val_acc: 0.7033\n",
            "Epoch 60/60\n",
            "24000/24000 [==============================] - 20s 843us/step - loss: 1.2490 - acc: 0.8201 - val_loss: 1.9837 - val_acc: 0.7015\n"
          ],
          "name": "stdout"
        },
        {
          "output_type": "execute_result",
          "data": {
            "text/plain": [
              "<keras.callbacks.History at 0x7f3568a18240>"
            ]
          },
          "metadata": {
            "tags": []
          },
          "execution_count": 9
        }
      ]
    },
    {
      "cell_type": "markdown",
      "metadata": {
        "id": "0sCc9tLHoOI9",
        "colab_type": "text"
      },
      "source": [
        "INFERENCE MODEL"
      ]
    },
    {
      "cell_type": "code",
      "metadata": {
        "id": "Eq_yYmjdoLN_",
        "colab_type": "code",
        "outputId": "013953c5-432c-4ee1-8da6-7fa07eaf9de6",
        "colab": {
          "base_uri": "https://localhost:8080/",
          "height": 374
        }
      },
      "source": [
        "encoder_model = Model(g2e_enc_inp,g2e_states)\n",
        "\n",
        "decoder_state_inp_h = Input(shape=(50, ))\n",
        "decoder_state_inp_c = Input(shape=(50, ))\n",
        "decoder_state_inp = [decoder_state_inp_h, decoder_state_inp_c]\n",
        "\n",
        "dec_x_inp = g2e_dec_emb(g2e_dec_inp)\n",
        "decoder_outputs, state_h, state_c = g2e_dec_lstm(dec_x_inp , initial_state=decoder_state_inp)\n",
        "decoder_states = [state_h, state_c]\n",
        "\n",
        "decoder_outputs = g2e_dec_dense(decoder_outputs)\n",
        "\n",
        "decoder_model = Model([g2e_dec_inp]+decoder_state_inp,[decoder_outputs]+decoder_states)\n",
        "decoder_model.summary()"
      ],
      "execution_count": 29,
      "outputs": [
        {
          "output_type": "stream",
          "text": [
            "__________________________________________________________________________________________________\n",
            "Layer (type)                    Output Shape         Param #     Connected to                     \n",
            "==================================================================================================\n",
            "input_2 (InputLayer)            (None, None)         0                                            \n",
            "__________________________________________________________________________________________________\n",
            "embedding_2 (Embedding)         (None, None, 50)     276950      input_2[0][0]                    \n",
            "__________________________________________________________________________________________________\n",
            "input_5 (InputLayer)            (None, 50)           0                                            \n",
            "__________________________________________________________________________________________________\n",
            "input_6 (InputLayer)            (None, 50)           0                                            \n",
            "__________________________________________________________________________________________________\n",
            "lstm_2 (LSTM)                   [(None, None, 50), ( 20200       embedding_2[2][0]                \n",
            "                                                                 input_5[0][0]                    \n",
            "                                                                 input_6[0][0]                    \n",
            "__________________________________________________________________________________________________\n",
            "dense_1 (Dense)                 (None, None, 5539)   282489      lstm_2[2][0]                     \n",
            "==================================================================================================\n",
            "Total params: 579,639\n",
            "Trainable params: 579,639\n",
            "Non-trainable params: 0\n",
            "__________________________________________________________________________________________________\n"
          ],
          "name": "stdout"
        }
      ]
    },
    {
      "cell_type": "code",
      "metadata": {
        "id": "497gl4bEziho",
        "colab_type": "code",
        "outputId": "f4218c05-06d9-4b0b-e2aa-f37a73723cb4",
        "colab": {
          "base_uri": "https://localhost:8080/",
          "height": 34
        }
      },
      "source": [
        "idx_to_word_inp = dict((i,word) for word, i in ger_tokenizer.word_index.items())\n",
        "idx_to_word_op = dict((i,word) for word, i in eng_tokenizer.word_index.items())\n",
        "eng_tokenizer.word_index['<START>']"
      ],
      "execution_count": 30,
      "outputs": [
        {
          "output_type": "execute_result",
          "data": {
            "text/plain": [
              "1"
            ]
          },
          "metadata": {
            "tags": []
          },
          "execution_count": 30
        }
      ]
    },
    {
      "cell_type": "code",
      "metadata": {
        "id": "Brf7z0uJ056C",
        "colab_type": "code",
        "colab": {}
      },
      "source": [
        "def decode_seq(inp_seq):\n",
        "  \n",
        "  encoder_states = encoder_model.predict(inp_seq)\n",
        "  \n",
        "  target_seq = np.zeros(( 1, 1))\n",
        "  target_seq[0,0] = eng_tokenizer.word_index['<START>']\n",
        "  \n",
        "  stop = False\n",
        "  \n",
        "  sentence = \"\"\n",
        "  \n",
        "  while(not stop):\n",
        "    output_vec, h, c = decoder_model.predict([target_seq]+encoder_states)\n",
        "    op_id = np.argmax(output_vec[0,-1,:])\n",
        "    sampled_word = idx_to_word_op[op_id]\n",
        "    sentence+=\" \"+sampled_word\n",
        "    \n",
        "    #print(\"sampled:\", sampled_word)\n",
        "    \n",
        "    \n",
        "    if (sampled_word == \"<END>\" or len(sentence.split())>=eng_max_len):\n",
        "      stop = True\n",
        "    #print(stop)\n",
        "    target_seq = np.zeros(( 1, 1))\n",
        "    target_seq[0,0] =  op_id\n",
        "    \n",
        "    encoder_states = [h, c]\n",
        "    #print(output_vec.shape)\n",
        "  return sentence"
      ],
      "execution_count": 0,
      "outputs": []
    },
    {
      "cell_type": "markdown",
      "metadata": {
        "id": "OukDhep0YNCs",
        "colab_type": "text"
      },
      "source": [
        "PREDICTIONS.."
      ]
    },
    {
      "cell_type": "code",
      "metadata": {
        "id": "DoTdhngD671r",
        "colab_type": "code",
        "outputId": "f153d6c2-c6cb-4bd9-c3b8-2f4db1d84dfe",
        "colab": {
          "base_uri": "https://localhost:8080/",
          "height": 68
        }
      },
      "source": [
        "id = 8695\n",
        "#X_train_inp[id:id+1].shape\n",
        "#print(X_train_inp[20:21])\n",
        "input_seq = X_train_inp[id:id+1]\n",
        "op_seq = y_train_inp[id:id+1]\n",
        "print(\"INPUT: \"+\" \".join([idx_to_word_inp[i] for i in input_seq[0] if i>0]))\n",
        "print(\"ACTUAL: \"+\" \".join([idx_to_word_op[i] for i in op_seq[0] if i>0]))\n",
        "input_seq\n",
        "print(\"PREDICTED: \",decode_seq(input_seq))"
      ],
      "execution_count": 40,
      "outputs": [
        {
          "output_type": "stream",
          "text": [
            "INPUT: ich bin mude\n",
            "ACTUAL: <START> i am tired <END>\n",
            "PREDICTED:   im tired <END>\n"
          ],
          "name": "stdout"
        }
      ]
    },
    {
      "cell_type": "code",
      "metadata": {
        "id": "XxoPp-WVe_r7",
        "colab_type": "code",
        "colab": {}
      },
      "source": [
        "idx_to_word_op[0]"
      ],
      "execution_count": 0,
      "outputs": []
    },
    {
      "cell_type": "code",
      "metadata": {
        "id": "hep5tq-o8rkY",
        "colab_type": "code",
        "colab": {}
      },
      "source": [
        ""
      ],
      "execution_count": 0,
      "outputs": []
    }
  ]
}