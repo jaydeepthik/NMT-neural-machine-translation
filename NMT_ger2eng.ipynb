{
  "nbformat": 4,
  "nbformat_minor": 0,
  "metadata": {
    "colab": {
      "name": "NMT_ger2eng.ipynb",
      "version": "0.3.2",
      "provenance": [],
      "collapsed_sections": [],
      "include_colab_link": true
    },
    "kernelspec": {
      "name": "python3",
      "display_name": "Python 3"
    },
    "accelerator": "GPU"
  },
  "cells": [
    {
      "cell_type": "markdown",
      "metadata": {
        "id": "view-in-github",
        "colab_type": "text"
      },
      "source": [
        "<a href=\"https://colab.research.google.com/github/jaydeepthik/NMT-neural-machine-translation/blob/master/NMT_ger2eng.ipynb\" target=\"_parent\"><img src=\"https://colab.research.google.com/assets/colab-badge.svg\" alt=\"Open In Colab\"/></a>"
      ]
    },
    {
      "metadata": {
        "id": "lcebxS60aZlI",
        "colab_type": "code",
        "colab": {}
      },
      "cell_type": "code",
      "source": [
        "from google.colab import drive\n",
        "drive.mount(\"/content/drive\")"
      ],
      "execution_count": 0,
      "outputs": []
    },
    {
      "metadata": {
        "id": "iaQmvW1pZYuX",
        "colab_type": "code",
        "colab": {}
      },
      "cell_type": "code",
      "source": [
        "import numpy as np\n",
        "import string\n",
        "from unicodedata import normalize\n",
        "import re\n",
        "from keras.preprocessing.text import Tokenizer\n",
        "from keras.preprocessing.sequence import pad_sequences\n",
        "from keras.utils import to_categorical\n",
        "\n",
        "#read file and make pairs\n",
        "\n",
        "def read_file(file):\n",
        "    \n",
        "    with open(file, 'r', encoding='utf8') as f:\n",
        "        pairs = [line.strip().split('\\t') for line in f]\n",
        "        #print(pairs)\n",
        "    return pairs\n",
        "\n",
        "def preprocess_pairs(data):\n",
        "    cleaned = list()\n",
        "    re_punc = re.compile('[%s]' % re.escape(string.punctuation))\n",
        "    re_print = re.compile('[^%s]' % re.escape(string.printable))    \n",
        "    \n",
        "    for pairs in data:\n",
        "      clean_pair = list()\n",
        "      for line in pairs:\n",
        "        line = normalize('NFD', line).encode('ascii', 'ignore')\n",
        "        line = line.decode('utf8')\n",
        "        line = line.lower()\n",
        "        line = line.split()\n",
        "        line = [re_punc.sub('', w) for w in line]\n",
        "        line = [re_print.sub('', w) for w in line]\n",
        "        line = [word for word in line if word.isalpha()]\n",
        "        #print(line)\n",
        "        clean_pair.append(\" \".join(line))\n",
        "      cleaned.append(clean_pair)\n",
        "    return cleaned\n",
        "\n",
        "def encode_optput(sequences, vocab_size):\n",
        "  ylist = list()\n",
        "  for sequence in sequences:\n",
        "    encode = to_categorical(sequence, vocab_size)\n",
        "    ylist.append(encode)\n",
        "  y = np.array(ylist)\n",
        "  y = y.reshape(sequences.shape[0], sequences.shape[1], vocab_size)\n",
        "  return y"
      ],
      "execution_count": 0,
      "outputs": []
    },
    {
      "metadata": {
        "id": "vbIchCAmba_5",
        "colab_type": "code",
        "colab": {}
      },
      "cell_type": "code",
      "source": [
        "data = read_file(\"/content/drive/My Drive/Colab Notebooks/nmt_data/deu-eng/deu.txt\")\n",
        "data = preprocess_pairs(data)\n",
        "n_sentences = 10000\n",
        "\n",
        "reduced_data = data[:10000]\n",
        "reduced_data = np.array(reduced_data)\n",
        "np.random.shuffle(reduced_data)\n",
        "\n",
        "train_data, test_data = reduced_data[:9000], reduced_data[9000:]\n",
        "\n"
      ],
      "execution_count": 0,
      "outputs": []
    },
    {
      "metadata": {
        "id": "MyAzc_PNcRfG",
        "colab_type": "code",
        "colab": {}
      },
      "cell_type": "code",
      "source": [
        "eng_tokenizer = Tokenizer()\n",
        "eng_tokenizer.fit_on_texts(reduced_data[:,0])\n",
        "eng_vocab_size = len(eng_tokenizer.word_index) + 1\n",
        "eng_max_len = max(len(line.split()) for line in reduced_data[:,0])\n",
        "\n",
        "ger_tokenizer = Tokenizer()\n",
        "ger_tokenizer.fit_on_texts(reduced_data[:,1])\n",
        "ger_vocab_size = len(ger_tokenizer.word_index)+1\n",
        "ger_max_len = max(len(line.split()) for line in reduced_data[:,1])\n",
        "\n",
        "\n",
        "X_train = ger_tokenizer.texts_to_sequences(train_data[:,1])\n",
        "X_train = pad_sequences(X_train, maxlen=ger_max_len, padding='post')\n",
        "\n",
        "y_train = eng_tokenizer.texts_to_sequences(train_data[:,0])\n",
        "y_train = pad_sequences(y_train, maxlen=eng_max_len, padding='post')\n",
        "y_train = encode_optput(y_train, eng_vocab_size)\n",
        "\n",
        "\n",
        "X_test = ger_tokenizer.texts_to_sequences(test_data[:,1])\n",
        "print(X_test[0])\n",
        "X_test = pad_sequences(X_test, maxlen=ger_max_len, padding='post')\n",
        "\n",
        "y_test = eng_tokenizer.texts_to_sequences(test_data[:,0])\n",
        "y_test = pad_sequences(y_test, maxlen=eng_max_len, padding='post')\n",
        "y_test = encode_optput(y_test, eng_vocab_size)\n",
        "\n",
        "\n"
      ],
      "execution_count": 0,
      "outputs": []
    },
    {
      "metadata": {
        "id": "XxoPp-WVe_r7",
        "colab_type": "code",
        "colab": {
          "base_uri": "https://localhost:8080/",
          "height": 326
        },
        "outputId": "691ad9a7-7aad-4010-99bc-c9a58b13e480"
      },
      "cell_type": "code",
      "source": [
        "import keras\n",
        "from keras.models import Sequential\n",
        "from keras import layers\n",
        "\n",
        "model = Sequential()\n",
        "model.add(layers.Embedding(input_dim=ger_vocab_size,output_dim = 256,input_length= ger_max_len, mask_zero=True))\n",
        "model.add(layers.LSTM(256))\n",
        "model.add(layers.RepeatVector(eng_max_len))\n",
        "model.add(layers.LSTM(256, return_sequences=True))\n",
        "model.add(layers.TimeDistributed(layers.Dense(eng_vocab_size, activation='softmax')))\n",
        "\n",
        "model.compile(optimizer='adam', loss = 'categorical_crossentropy', metrics=['acc'])          \n",
        "model.summary()"
      ],
      "execution_count": 53,
      "outputs": [
        {
          "output_type": "stream",
          "text": [
            "_________________________________________________________________\n",
            "Layer (type)                 Output Shape              Param #   \n",
            "=================================================================\n",
            "embedding_3 (Embedding)      (None, 10, 256)           912896    \n",
            "_________________________________________________________________\n",
            "lstm_5 (LSTM)                (None, 256)               525312    \n",
            "_________________________________________________________________\n",
            "repeat_vector_3 (RepeatVecto (None, 5, 256)            0         \n",
            "_________________________________________________________________\n",
            "lstm_6 (LSTM)                (None, 5, 256)            525312    \n",
            "_________________________________________________________________\n",
            "time_distributed_2 (TimeDist (None, 5, 2233)           573881    \n",
            "=================================================================\n",
            "Total params: 2,537,401\n",
            "Trainable params: 2,537,401\n",
            "Non-trainable params: 0\n",
            "_________________________________________________________________\n"
          ],
          "name": "stdout"
        }
      ]
    },
    {
      "metadata": {
        "id": "FdpgFBpR4yCL",
        "colab_type": "code",
        "colab": {
          "base_uri": "https://localhost:8080/",
          "height": 1219
        },
        "outputId": "156ea411-6d5a-463f-d0d5-dd4153760ceb"
      },
      "cell_type": "code",
      "source": [
        "model.fit(X_train, y_train, epochs=30, batch_size=64, validation_data=(X_test, y_test))"
      ],
      "execution_count": 54,
      "outputs": [
        {
          "output_type": "stream",
          "text": [
            "WARNING:tensorflow:From /usr/local/lib/python3.6/dist-packages/tensorflow/python/ops/math_ops.py:3066: to_int32 (from tensorflow.python.ops.math_ops) is deprecated and will be removed in a future version.\n",
            "Instructions for updating:\n",
            "Use tf.cast instead.\n",
            "Train on 9000 samples, validate on 1000 samples\n",
            "Epoch 1/30\n",
            "9000/9000 [==============================] - 10s 1ms/step - loss: 4.1875 - acc: 0.4353 - val_loss: 3.4689 - val_acc: 0.4496\n",
            "Epoch 2/30\n",
            "9000/9000 [==============================] - 6s 632us/step - loss: 3.3012 - acc: 0.4649 - val_loss: 3.3310 - val_acc: 0.4738\n",
            "Epoch 3/30\n",
            "9000/9000 [==============================] - 6s 619us/step - loss: 3.1667 - acc: 0.4762 - val_loss: 3.2589 - val_acc: 0.4810\n",
            "Epoch 4/30\n",
            "9000/9000 [==============================] - 5s 579us/step - loss: 3.0388 - acc: 0.4911 - val_loss: 3.1434 - val_acc: 0.4956\n",
            "Epoch 5/30\n",
            "9000/9000 [==============================] - 5s 573us/step - loss: 2.8658 - acc: 0.5067 - val_loss: 3.0316 - val_acc: 0.5098\n",
            "Epoch 6/30\n",
            "9000/9000 [==============================] - 5s 576us/step - loss: 2.7047 - acc: 0.5268 - val_loss: 2.9028 - val_acc: 0.5350\n",
            "Epoch 7/30\n",
            "9000/9000 [==============================] - 5s 568us/step - loss: 2.5342 - acc: 0.5547 - val_loss: 2.7813 - val_acc: 0.5556\n",
            "Epoch 8/30\n",
            "9000/9000 [==============================] - 5s 572us/step - loss: 2.3661 - acc: 0.5766 - val_loss: 2.6696 - val_acc: 0.5696\n",
            "Epoch 9/30\n",
            "9000/9000 [==============================] - 5s 570us/step - loss: 2.2110 - acc: 0.5951 - val_loss: 2.5770 - val_acc: 0.5850\n",
            "Epoch 10/30\n",
            "9000/9000 [==============================] - 5s 552us/step - loss: 2.0634 - acc: 0.6127 - val_loss: 2.5079 - val_acc: 0.5930\n",
            "Epoch 11/30\n",
            "9000/9000 [==============================] - 5s 563us/step - loss: 1.9262 - acc: 0.6288 - val_loss: 2.4202 - val_acc: 0.6004\n",
            "Epoch 12/30\n",
            "9000/9000 [==============================] - 5s 554us/step - loss: 1.7963 - acc: 0.6463 - val_loss: 2.3640 - val_acc: 0.6106\n",
            "Epoch 13/30\n",
            "9000/9000 [==============================] - 5s 546us/step - loss: 1.6769 - acc: 0.6639 - val_loss: 2.3184 - val_acc: 0.6154\n",
            "Epoch 14/30\n",
            "9000/9000 [==============================] - 5s 553us/step - loss: 1.5646 - acc: 0.6787 - val_loss: 2.2538 - val_acc: 0.6300\n",
            "Epoch 15/30\n",
            "9000/9000 [==============================] - 5s 579us/step - loss: 1.4518 - acc: 0.6937 - val_loss: 2.1989 - val_acc: 0.6362\n",
            "Epoch 16/30\n",
            "9000/9000 [==============================] - 6s 630us/step - loss: 1.3427 - acc: 0.7104 - val_loss: 2.1705 - val_acc: 0.6414\n",
            "Epoch 17/30\n",
            "9000/9000 [==============================] - 5s 595us/step - loss: 1.2417 - acc: 0.7260 - val_loss: 2.1156 - val_acc: 0.6458\n",
            "Epoch 18/30\n",
            "9000/9000 [==============================] - 6s 622us/step - loss: 1.1508 - acc: 0.7418 - val_loss: 2.1031 - val_acc: 0.6484\n",
            "Epoch 19/30\n",
            "9000/9000 [==============================] - 5s 586us/step - loss: 1.0556 - acc: 0.7608 - val_loss: 2.0564 - val_acc: 0.6588\n",
            "Epoch 20/30\n",
            "9000/9000 [==============================] - 5s 562us/step - loss: 0.9716 - acc: 0.7780 - val_loss: 2.0461 - val_acc: 0.6594\n",
            "Epoch 21/30\n",
            "9000/9000 [==============================] - 5s 602us/step - loss: 0.8906 - acc: 0.7961 - val_loss: 2.0020 - val_acc: 0.6680\n",
            "Epoch 22/30\n",
            "9000/9000 [==============================] - 5s 562us/step - loss: 0.8116 - acc: 0.8138 - val_loss: 1.9793 - val_acc: 0.6748\n",
            "Epoch 23/30\n",
            "9000/9000 [==============================] - 5s 564us/step - loss: 0.7418 - acc: 0.8290 - val_loss: 1.9559 - val_acc: 0.6760\n",
            "Epoch 24/30\n",
            "9000/9000 [==============================] - 5s 563us/step - loss: 0.6766 - acc: 0.8435 - val_loss: 1.9534 - val_acc: 0.6712\n",
            "Epoch 25/30\n",
            "9000/9000 [==============================] - 5s 551us/step - loss: 0.6186 - acc: 0.8566 - val_loss: 1.9282 - val_acc: 0.6808\n",
            "Epoch 26/30\n",
            "9000/9000 [==============================] - 5s 540us/step - loss: 0.5593 - acc: 0.8728 - val_loss: 1.9167 - val_acc: 0.6912\n",
            "Epoch 27/30\n",
            "9000/9000 [==============================] - 5s 556us/step - loss: 0.5059 - acc: 0.8843 - val_loss: 1.9024 - val_acc: 0.6880\n",
            "Epoch 28/30\n",
            "9000/9000 [==============================] - 5s 560us/step - loss: 0.4582 - acc: 0.8941 - val_loss: 1.9084 - val_acc: 0.6904\n",
            "Epoch 29/30\n",
            "9000/9000 [==============================] - 5s 557us/step - loss: 0.4186 - acc: 0.9050 - val_loss: 1.9018 - val_acc: 0.6944\n",
            "Epoch 30/30\n",
            "9000/9000 [==============================] - 5s 564us/step - loss: 0.3816 - acc: 0.9119 - val_loss: 1.8986 - val_acc: 0.6972\n"
          ],
          "name": "stdout"
        },
        {
          "output_type": "execute_result",
          "data": {
            "text/plain": [
              "<keras.callbacks.History at 0x7f0f3e2565f8>"
            ]
          },
          "metadata": {
            "tags": []
          },
          "execution_count": 54
        }
      ]
    },
    {
      "metadata": {
        "id": "hep5tq-o8rkY",
        "colab_type": "code",
        "colab": {}
      },
      "cell_type": "code",
      "source": [
        ""
      ],
      "execution_count": 0,
      "outputs": []
    }
  ]
}