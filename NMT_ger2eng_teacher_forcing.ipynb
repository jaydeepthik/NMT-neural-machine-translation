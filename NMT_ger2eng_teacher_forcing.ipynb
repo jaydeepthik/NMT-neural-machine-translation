{
  "nbformat": 4,
  "nbformat_minor": 0,
  "metadata": {
    "colab": {
      "name": "NMT_ger2eng_teacher_forcing.ipynb",
      "version": "0.3.2",
      "provenance": [],
      "collapsed_sections": [],
      "include_colab_link": true
    },
    "kernelspec": {
      "name": "python3",
      "display_name": "Python 3"
    },
    "accelerator": "GPU"
  },
  "cells": [
    {
      "cell_type": "markdown",
      "metadata": {
        "id": "view-in-github",
        "colab_type": "text"
      },
      "source": [
        "<a href=\"https://colab.research.google.com/github/jaydeepthik/NMT-neural-machine-translation/blob/master/NMT_ger2eng_teacher_forcing.ipynb\" target=\"_parent\"><img src=\"https://colab.research.google.com/assets/colab-badge.svg\" alt=\"Open In Colab\"/></a>"
      ]
    },
    {
      "cell_type": "code",
      "metadata": {
        "id": "lcebxS60aZlI",
        "colab_type": "code",
        "colab": {
          "base_uri": "https://localhost:8080/",
          "height": 122
        },
        "outputId": "47491b04-96a8-45cd-84de-05f9dc70d2ea"
      },
      "source": [
        "from google.colab import drive\n",
        "drive.mount(\"/content/drive\")"
      ],
      "execution_count": 1,
      "outputs": [
        {
          "output_type": "stream",
          "text": [
            "Go to this URL in a browser: https://accounts.google.com/o/oauth2/auth?client_id=947318989803-6bn6qk8qdgf4n4g3pfee6491hc0brc4i.apps.googleusercontent.com&redirect_uri=urn%3Aietf%3Awg%3Aoauth%3A2.0%3Aoob&scope=email%20https%3A%2F%2Fwww.googleapis.com%2Fauth%2Fdocs.test%20https%3A%2F%2Fwww.googleapis.com%2Fauth%2Fdrive%20https%3A%2F%2Fwww.googleapis.com%2Fauth%2Fdrive.photos.readonly%20https%3A%2F%2Fwww.googleapis.com%2Fauth%2Fpeopleapi.readonly&response_type=code\n",
            "\n",
            "Enter your authorization code:\n",
            "··········\n",
            "Mounted at /content/drive\n"
          ],
          "name": "stdout"
        }
      ]
    },
    {
      "cell_type": "code",
      "metadata": {
        "id": "iaQmvW1pZYuX",
        "colab_type": "code",
        "colab": {
          "base_uri": "https://localhost:8080/",
          "height": 34
        },
        "outputId": "173a970f-67e7-447e-91fd-b98d992c3d64"
      },
      "source": [
        "import numpy as np\n",
        "import string\n",
        "from unicodedata import normalize\n",
        "import re\n",
        "from keras.preprocessing.text import Tokenizer\n",
        "from keras.preprocessing.sequence import pad_sequences\n",
        "from keras.utils import to_categorical\n",
        "from keras import optimizers\n",
        "\n",
        "#read file and make pairs\n",
        "\n",
        "def read_file(file):\n",
        "    \n",
        "    with open(file, 'r', encoding='utf8') as f:\n",
        "        pairs = [line.strip().split('\\t') for line in f]\n",
        "        #print(pairs)\n",
        "    return pairs\n",
        "\n",
        "def preprocess_pairs(data):\n",
        "    cleaned = list()\n",
        "    re_punc = re.compile('[%s]' % re.escape(string.punctuation))\n",
        "    re_print = re.compile('[^%s]' % re.escape(string.printable))    \n",
        "    \n",
        "    for pairs in data:\n",
        "      clean_pair = list()\n",
        "      for i,line in enumerate(pairs):\n",
        "        line = normalize('NFD', line).encode('ascii', 'ignore')\n",
        "        line = line.decode('utf8')\n",
        "        line = line.lower()\n",
        "        line = line.split()\n",
        "        line = [re_punc.sub('', w) for w in line]\n",
        "        line = [re_print.sub('', w) for w in line]\n",
        "        line = [word for word in line if word.isalpha()]\n",
        "        #print(line)\n",
        "        if not i:\n",
        "          line = [\"<START>\"]+line+[\"<END>\"]\n",
        "        clean_pair.append(\" \".join(line))\n",
        "      cleaned.append(clean_pair)\n",
        "    return cleaned\n",
        "\n",
        "def encode_output(sequences, vocab_size):\n",
        "  ylist = list()\n",
        "  for sequence in sequences:\n",
        "    encode = to_categorical(sequence, vocab_size)\n",
        "    ylist.append(encode)\n",
        "  y = np.array(ylist)\n",
        "  y = y.reshape(sequences.shape[0], sequences.shape[1], vocab_size)\n",
        "  return y"
      ],
      "execution_count": 2,
      "outputs": [
        {
          "output_type": "stream",
          "text": [
            "Using TensorFlow backend.\n"
          ],
          "name": "stderr"
        }
      ]
    },
    {
      "cell_type": "code",
      "metadata": {
        "id": "vbIchCAmba_5",
        "colab_type": "code",
        "outputId": "44cb8dde-e50e-4578-dff0-3cedb8eb671a",
        "colab": {
          "base_uri": "https://localhost:8080/",
          "height": 85
        }
      },
      "source": [
        "data = read_file(\"/content/drive/My Drive/Colab Notebooks/nmt_data/deu-eng/deu.txt\")\n",
        "data = preprocess_pairs(data)\n",
        "#data = np.array(data)\n",
        "#np.random.shuffle(data)\n",
        "n_sentences = 60000\n",
        "\n",
        "reduced_data = data[:40000]\n",
        "reduced_data = np.array(reduced_data)\n",
        "np.random.shuffle(reduced_data)\n",
        "\n",
        "train_data, test_data = reduced_data[:30000], reduced_data[30000:]\n",
        "print(train_data[0])\n",
        "print(train_data[1])\n",
        "print(test_data[0])\n",
        "print(test_data[1])"
      ],
      "execution_count": 3,
      "outputs": [
        {
          "output_type": "stream",
          "text": [
            "['<START> im drinking water <END>' 'ich trinke wasser']\n",
            "['<START> i want money <END>' 'ich will geld']\n",
            "['<START> have you ever smoked <END>' 'hast du schon mal geraucht']\n",
            "['<START> i teach spanish <END>' 'ich unterrichte spanisch']\n"
          ],
          "name": "stdout"
        }
      ]
    },
    {
      "cell_type": "code",
      "metadata": {
        "id": "xUdsmywzE30D",
        "colab_type": "code",
        "colab": {
          "base_uri": "https://localhost:8080/",
          "height": 34
        },
        "outputId": "251e3480-4e56-4a3d-b3c5-ec6b1638003b"
      },
      "source": [
        "len(data)"
      ],
      "execution_count": 4,
      "outputs": [
        {
          "output_type": "execute_result",
          "data": {
            "text/plain": [
              "192881"
            ]
          },
          "metadata": {
            "tags": []
          },
          "execution_count": 4
        }
      ]
    },
    {
      "cell_type": "code",
      "metadata": {
        "id": "MyAzc_PNcRfG",
        "colab_type": "code",
        "colab": {}
      },
      "source": [
        "eng_tokenizer = Tokenizer(filters='\"#$%&()*+,./:;=@[\\\\]^_`{|}~\\t\\n', lower=False)\n",
        "eng_tokenizer.fit_on_texts(reduced_data[:,0])\n",
        "eng_vocab_size = len(eng_tokenizer.word_index) + 1\n",
        "eng_max_len = max(len(line.split()) for line in reduced_data[:,0])\n",
        "\n",
        "ger_tokenizer = Tokenizer(filters='\"#$%&()*+,./:;=@[\\\\]^_`{|}~\\t\\n', lower=False)\n",
        "ger_tokenizer.fit_on_texts(reduced_data[:,1])\n",
        "ger_vocab_size = len(ger_tokenizer.word_index)+1\n",
        "ger_max_len = max(len(line.split()) for line in reduced_data[:,1])\n",
        "\n",
        "\n",
        "X_train_inp = ger_tokenizer.texts_to_sequences(train_data[:,1])\n",
        "X_train_inp = pad_sequences(X_train_inp, maxlen=ger_max_len, padding='post')\n",
        "\n",
        "y_train = eng_tokenizer.texts_to_sequences(train_data[:,0])\n",
        "y_train_inp = pad_sequences(y_train, maxlen=eng_max_len, padding='post')\n",
        "\n",
        "\n",
        "#y_train_op = y_train[:,1:].tolist()\n",
        "y_train_op = pad_sequences(y_train, maxlen=eng_max_len+1, padding='post')\n",
        "y_train_op = y_train_op[:,1:]\n",
        "y_train_op_encoded = encode_output(y_train_op, eng_vocab_size)\n",
        "\n",
        "#print(y_train_op[0])\n",
        "X_test = ger_tokenizer.texts_to_sequences(test_data[:,1])\n",
        "X_test = pad_sequences(X_test, maxlen=ger_max_len, padding='post')\n",
        "\n",
        "\n",
        "y_test = eng_tokenizer.texts_to_sequences(test_data[:,0])\n",
        "y_test = pad_sequences(y_test, maxlen=eng_max_len, padding='post')\n",
        "y_test_enc = encode_output(y_test, eng_vocab_size)\n",
        "\n",
        "\n"
      ],
      "execution_count": 0,
      "outputs": []
    },
    {
      "cell_type": "code",
      "metadata": {
        "id": "YcYImAfH41JU",
        "colab_type": "code",
        "outputId": "f68d64ea-7f21-4cd9-f1dc-94dc9aa27375",
        "colab": {
          "base_uri": "https://localhost:8080/",
          "height": 51
        }
      },
      "source": [
        "print(y_train_inp.shape, y_train_op.shape, y_train_op_encoded.shape)\n",
        "print(y_train_inp[0], y_train_op[0])\n"
      ],
      "execution_count": 6,
      "outputs": [
        {
          "output_type": "stream",
          "text": [
            "(30000, 8) (30000, 8) (30000, 8, 5539)\n",
            "[   1   14 1087  232    2    0    0    0] [  14 1087  232    2    0    0    0    0]\n"
          ],
          "name": "stdout"
        }
      ]
    },
    {
      "cell_type": "markdown",
      "metadata": {
        "id": "a1LPtY2jifnk",
        "colab_type": "text"
      },
      "source": [
        "ENGLISH 2 GERMAN"
      ]
    },
    {
      "cell_type": "code",
      "metadata": {
        "id": "5KKo4WRxb1nT",
        "colab_type": "code",
        "outputId": "aee7344c-1dd7-4fd1-b1c1-6f165b8670db",
        "colab": {
          "base_uri": "https://localhost:8080/",
          "height": 1462
        }
      },
      "source": [
        "#model ger -> eng\n",
        "\n",
        "from keras.models import Model\n",
        "from keras.layers import LSTM, Dense, Input, Embedding, TimeDistributed\n",
        "\n",
        "g2e_enc_inp = Input(shape=(None,))\n",
        "g2e_enc_emb = Embedding(input_dim=ger_vocab_size, output_dim=128, mask_zero=True)\n",
        "g2e_enc_x   = g2e_enc_emb(g2e_enc_inp)\n",
        "g2e_enc_lstm  = LSTM(128, return_state=True, dropout=0.25 , recurrent_dropout=0.25)\n",
        "g2e_enc_x, g2e_state_h, g2e_state_c = g2e_enc_lstm(g2e_enc_x)\n",
        "g2e_states = [g2e_state_h, g2e_state_c]\n",
        "\n",
        "g2e_dec_inp = Input(shape=(None,))\n",
        "g2e_dec_emb = Embedding(input_dim=eng_vocab_size, output_dim=128, mask_zero=True)\n",
        "g2e_dec_x = g2e_dec_emb(g2e_dec_inp)\n",
        "g2e_dec_lstm = LSTM(128, return_sequences=True, return_state=True, dropout=0.25 , recurrent_dropout=0.25)\n",
        "g2e_dec_x,_,_ = g2e_dec_lstm(g2e_dec_x, initial_state=g2e_states)\n",
        "g2e_dec_dense= Dense(eng_vocab_size, activation='softmax')\n",
        "\n",
        "g2e_dec_op = g2e_dec_dense(g2e_dec_x)\n",
        "\n",
        "g2e_model =  Model([g2e_enc_inp, g2e_dec_inp], g2e_dec_op)\n",
        "g2e_model.compile(optimizer=optimizers.RMSprop(lr=0.001), loss='categorical_crossentropy', metrics=['acc'])\n",
        "g2e_model.summary()\n",
        "\n",
        "g2e_model.fit([X_train_inp, y_train_inp], y_train_op_encoded, batch_size=64, epochs=30, validation_split=0.2,shuffle=True)\n"
      ],
      "execution_count": 21,
      "outputs": [
        {
          "output_type": "stream",
          "text": [
            "__________________________________________________________________________________________________\n",
            "Layer (type)                    Output Shape         Param #     Connected to                     \n",
            "==================================================================================================\n",
            "input_29 (InputLayer)           (None, None)         0                                            \n",
            "__________________________________________________________________________________________________\n",
            "input_30 (InputLayer)           (None, None)         0                                            \n",
            "__________________________________________________________________________________________________\n",
            "embedding_17 (Embedding)        (None, None, 128)    1150208     input_29[0][0]                   \n",
            "__________________________________________________________________________________________________\n",
            "embedding_18 (Embedding)        (None, None, 128)    708992      input_30[0][0]                   \n",
            "__________________________________________________________________________________________________\n",
            "lstm_17 (LSTM)                  [(None, 128), (None, 131584      embedding_17[0][0]               \n",
            "__________________________________________________________________________________________________\n",
            "lstm_18 (LSTM)                  [(None, None, 128),  131584      embedding_18[0][0]               \n",
            "                                                                 lstm_17[0][1]                    \n",
            "                                                                 lstm_17[0][2]                    \n",
            "__________________________________________________________________________________________________\n",
            "dense_9 (Dense)                 (None, None, 5539)   714531      lstm_18[0][0]                    \n",
            "==================================================================================================\n",
            "Total params: 2,836,899\n",
            "Trainable params: 2,836,899\n",
            "Non-trainable params: 0\n",
            "__________________________________________________________________________________________________\n",
            "Train on 24000 samples, validate on 6000 samples\n",
            "Epoch 1/30\n",
            "24000/24000 [==============================] - 38s 2ms/step - loss: 4.0597 - acc: 0.3760 - val_loss: 3.4776 - val_acc: 0.4544\n",
            "Epoch 2/30\n",
            "24000/24000 [==============================] - 32s 1ms/step - loss: 3.2423 - acc: 0.4780 - val_loss: 3.0953 - val_acc: 0.4978\n",
            "Epoch 3/30\n",
            "24000/24000 [==============================] - 32s 1ms/step - loss: 2.9301 - acc: 0.5167 - val_loss: 2.8632 - val_acc: 0.5346\n",
            "Epoch 4/30\n",
            "24000/24000 [==============================] - 32s 1ms/step - loss: 2.6980 - acc: 0.5522 - val_loss: 2.6543 - val_acc: 0.5665\n",
            "Epoch 5/30\n",
            "24000/24000 [==============================] - 32s 1ms/step - loss: 2.5031 - acc: 0.5819 - val_loss: 2.5076 - val_acc: 0.5910\n",
            "Epoch 6/30\n",
            "24000/24000 [==============================] - 32s 1ms/step - loss: 2.3493 - acc: 0.6050 - val_loss: 2.3837 - val_acc: 0.6110\n",
            "Epoch 7/30\n",
            "24000/24000 [==============================] - 33s 1ms/step - loss: 2.2209 - acc: 0.6237 - val_loss: 2.2844 - val_acc: 0.6258\n",
            "Epoch 8/30\n",
            "24000/24000 [==============================] - 32s 1ms/step - loss: 2.1086 - acc: 0.6404 - val_loss: 2.2009 - val_acc: 0.6381\n",
            "Epoch 9/30\n",
            "24000/24000 [==============================] - 32s 1ms/step - loss: 2.0109 - acc: 0.6549 - val_loss: 2.1239 - val_acc: 0.6473\n",
            "Epoch 10/30\n",
            "24000/24000 [==============================] - 32s 1ms/step - loss: 1.9259 - acc: 0.6673 - val_loss: 2.0729 - val_acc: 0.6594\n",
            "Epoch 11/30\n",
            "24000/24000 [==============================] - 33s 1ms/step - loss: 1.8505 - acc: 0.6801 - val_loss: 2.0135 - val_acc: 0.6694\n",
            "Epoch 12/30\n",
            "24000/24000 [==============================] - 32s 1ms/step - loss: 1.7879 - acc: 0.6906 - val_loss: 1.9740 - val_acc: 0.6767\n",
            "Epoch 13/30\n",
            "24000/24000 [==============================] - 32s 1ms/step - loss: 1.7292 - acc: 0.7008 - val_loss: 1.9298 - val_acc: 0.6849\n",
            "Epoch 14/30\n",
            "24000/24000 [==============================] - 32s 1ms/step - loss: 1.6732 - acc: 0.7112 - val_loss: 1.8970 - val_acc: 0.6924\n",
            "Epoch 15/30\n",
            "24000/24000 [==============================] - 32s 1ms/step - loss: 1.6244 - acc: 0.7211 - val_loss: 1.8663 - val_acc: 0.6991\n",
            "Epoch 16/30\n",
            "24000/24000 [==============================] - 32s 1ms/step - loss: 1.5777 - acc: 0.7301 - val_loss: 1.8392 - val_acc: 0.7036\n",
            "Epoch 17/30\n",
            "24000/24000 [==============================] - 32s 1ms/step - loss: 1.5355 - acc: 0.7379 - val_loss: 1.8185 - val_acc: 0.7099\n",
            "Epoch 18/30\n",
            "24000/24000 [==============================] - 32s 1ms/step - loss: 1.5026 - acc: 0.7456 - val_loss: 1.8020 - val_acc: 0.7145\n",
            "Epoch 19/30\n",
            "24000/24000 [==============================] - 32s 1ms/step - loss: 1.4741 - acc: 0.7523 - val_loss: 1.7838 - val_acc: 0.7185\n",
            "Epoch 20/30\n",
            "24000/24000 [==============================] - 32s 1ms/step - loss: 1.4428 - acc: 0.7590 - val_loss: 1.7676 - val_acc: 0.7211\n",
            "Epoch 21/30\n",
            "24000/24000 [==============================] - 32s 1ms/step - loss: 1.4075 - acc: 0.7650 - val_loss: 1.7472 - val_acc: 0.7254\n",
            "Epoch 22/30\n",
            "24000/24000 [==============================] - 32s 1ms/step - loss: 1.3799 - acc: 0.7702 - val_loss: 1.7326 - val_acc: 0.7290\n",
            "Epoch 23/30\n",
            "24000/24000 [==============================] - 32s 1ms/step - loss: 1.3525 - acc: 0.7752 - val_loss: 1.7161 - val_acc: 0.7323\n",
            "Epoch 24/30\n",
            "24000/24000 [==============================] - 32s 1ms/step - loss: 1.3284 - acc: 0.7800 - val_loss: 1.7095 - val_acc: 0.7348\n",
            "Epoch 25/30\n",
            "24000/24000 [==============================] - 32s 1ms/step - loss: 1.3065 - acc: 0.7851 - val_loss: 1.7027 - val_acc: 0.7372\n",
            "Epoch 26/30\n",
            "24000/24000 [==============================] - 32s 1ms/step - loss: 1.2926 - acc: 0.7889 - val_loss: 1.6878 - val_acc: 0.7403\n",
            "Epoch 27/30\n",
            "24000/24000 [==============================] - 32s 1ms/step - loss: 1.2723 - acc: 0.7934 - val_loss: 1.6771 - val_acc: 0.7403\n",
            "Epoch 28/30\n",
            "24000/24000 [==============================] - 32s 1ms/step - loss: 1.2485 - acc: 0.7965 - val_loss: 1.6608 - val_acc: 0.7427\n",
            "Epoch 29/30\n",
            "24000/24000 [==============================] - 32s 1ms/step - loss: 1.2307 - acc: 0.8010 - val_loss: 1.6578 - val_acc: 0.7442\n",
            "Epoch 30/30\n",
            "24000/24000 [==============================] - 32s 1ms/step - loss: 1.2188 - acc: 0.8050 - val_loss: 1.6543 - val_acc: 0.7462\n"
          ],
          "name": "stdout"
        },
        {
          "output_type": "execute_result",
          "data": {
            "text/plain": [
              "<keras.callbacks.History at 0x7f8edb292c50>"
            ]
          },
          "metadata": {
            "tags": []
          },
          "execution_count": 21
        }
      ]
    },
    {
      "cell_type": "code",
      "metadata": {
        "id": "SoGYO4CJ1VZI",
        "colab_type": "code",
        "colab": {
          "base_uri": "https://localhost:8080/",
          "height": 391
        },
        "outputId": "265c243e-bd8e-4be1-b4e8-1190ea2fdd7c"
      },
      "source": [
        "g2e_model.fit([X_train_inp, y_train_inp], y_train_op_encoded, batch_size=64, epochs=10, validation_split=0.2,shuffle=True)\n"
      ],
      "execution_count": 34,
      "outputs": [
        {
          "output_type": "stream",
          "text": [
            "Train on 24000 samples, validate on 6000 samples\n",
            "Epoch 1/10\n",
            "24000/24000 [==============================] - 32s 1ms/step - loss: 0.7847 - acc: 0.8826 - val_loss: 1.4920 - val_acc: 0.7810\n",
            "Epoch 2/10\n",
            "24000/24000 [==============================] - 31s 1ms/step - loss: 0.7819 - acc: 0.8825 - val_loss: 1.4922 - val_acc: 0.7801\n",
            "Epoch 3/10\n",
            "24000/24000 [==============================] - 31s 1ms/step - loss: 0.7803 - acc: 0.8828 - val_loss: 1.4910 - val_acc: 0.7800\n",
            "Epoch 4/10\n",
            "24000/24000 [==============================] - 31s 1ms/step - loss: 0.7767 - acc: 0.8839 - val_loss: 1.4950 - val_acc: 0.7807\n",
            "Epoch 5/10\n",
            "24000/24000 [==============================] - 31s 1ms/step - loss: 0.7759 - acc: 0.8834 - val_loss: 1.4899 - val_acc: 0.7796\n",
            "Epoch 6/10\n",
            "24000/24000 [==============================] - 31s 1ms/step - loss: 0.7773 - acc: 0.8833 - val_loss: 1.4858 - val_acc: 0.7806\n",
            "Epoch 7/10\n",
            "24000/24000 [==============================] - 31s 1ms/step - loss: 0.7732 - acc: 0.8846 - val_loss: 1.4882 - val_acc: 0.7801\n",
            "Epoch 8/10\n",
            "24000/24000 [==============================] - 32s 1ms/step - loss: 0.7706 - acc: 0.8849 - val_loss: 1.4819 - val_acc: 0.7802\n",
            "Epoch 9/10\n",
            "24000/24000 [==============================] - 32s 1ms/step - loss: 0.7670 - acc: 0.8852 - val_loss: 1.4860 - val_acc: 0.7808\n",
            "Epoch 10/10\n",
            "24000/24000 [==============================] - 32s 1ms/step - loss: 0.7668 - acc: 0.8850 - val_loss: 1.4807 - val_acc: 0.7804\n"
          ],
          "name": "stdout"
        },
        {
          "output_type": "execute_result",
          "data": {
            "text/plain": [
              "<keras.callbacks.History at 0x7f8edb20cd30>"
            ]
          },
          "metadata": {
            "tags": []
          },
          "execution_count": 34
        }
      ]
    },
    {
      "cell_type": "code",
      "metadata": {
        "id": "YuYeBYmeBJOz",
        "colab_type": "code",
        "colab": {
          "base_uri": "https://localhost:8080/",
          "height": 71
        },
        "outputId": "3a93ab8c-cf62-4649-d5a1-f7ee81da52ec"
      },
      "source": [
        "g2e_model.save(\"/content/drive/My Drive/Colab Notebooks/nmt_data/nmt_g2e_78.h5\")"
      ],
      "execution_count": 36,
      "outputs": [
        {
          "output_type": "stream",
          "text": [
            "/usr/local/lib/python3.6/dist-packages/keras/engine/network.py:877: UserWarning: Layer lstm_18 was passed non-serializable keyword arguments: {'initial_state': [<tf.Tensor 'lstm_17/while/Exit_2:0' shape=(?, 128) dtype=float32>, <tf.Tensor 'lstm_17/while/Exit_3:0' shape=(?, 128) dtype=float32>]}. They will not be included in the serialized model (and thus will be missing at deserialization time).\n",
            "  '. They will not be included '\n"
          ],
          "name": "stderr"
        }
      ]
    },
    {
      "cell_type": "markdown",
      "metadata": {
        "id": "0sCc9tLHoOI9",
        "colab_type": "text"
      },
      "source": [
        "INFERENCE MODEL"
      ]
    },
    {
      "cell_type": "code",
      "metadata": {
        "id": "Eq_yYmjdoLN_",
        "colab_type": "code",
        "outputId": "fc572cb9-1593-402e-9194-2a3c7181a5d9",
        "colab": {
          "base_uri": "https://localhost:8080/",
          "height": 374
        }
      },
      "source": [
        "encoder_model = Model(g2e_enc_inp,g2e_states)\n",
        "\n",
        "decoder_state_inp_h = Input(shape=(None, ))\n",
        "decoder_state_inp_c = Input(shape=(None, ))\n",
        "decoder_state_inp = [decoder_state_inp_h, decoder_state_inp_c]\n",
        "\n",
        "dec_x_inp = g2e_dec_emb(g2e_dec_inp)\n",
        "decoder_outputs, state_h, state_c = g2e_dec_lstm(dec_x_inp , initial_state=decoder_state_inp)\n",
        "decoder_states = [state_h, state_c]\n",
        "\n",
        "decoder_outputs = g2e_dec_dense(decoder_outputs)\n",
        "\n",
        "decoder_model = Model([g2e_dec_inp]+decoder_state_inp,[decoder_outputs]+decoder_states)\n",
        "decoder_model.summary()"
      ],
      "execution_count": 37,
      "outputs": [
        {
          "output_type": "stream",
          "text": [
            "__________________________________________________________________________________________________\n",
            "Layer (type)                    Output Shape         Param #     Connected to                     \n",
            "==================================================================================================\n",
            "input_30 (InputLayer)           (None, None)         0                                            \n",
            "__________________________________________________________________________________________________\n",
            "embedding_18 (Embedding)        (None, None, 128)    708992      input_30[0][0]                   \n",
            "__________________________________________________________________________________________________\n",
            "input_31 (InputLayer)           (None, None)         0                                            \n",
            "__________________________________________________________________________________________________\n",
            "input_32 (InputLayer)           (None, None)         0                                            \n",
            "__________________________________________________________________________________________________\n",
            "lstm_18 (LSTM)                  [(None, None, 128),  131584      embedding_18[1][0]               \n",
            "                                                                 input_31[0][0]                   \n",
            "                                                                 input_32[0][0]                   \n",
            "__________________________________________________________________________________________________\n",
            "dense_9 (Dense)                 (None, None, 5539)   714531      lstm_18[1][0]                    \n",
            "==================================================================================================\n",
            "Total params: 1,555,107\n",
            "Trainable params: 1,555,107\n",
            "Non-trainable params: 0\n",
            "__________________________________________________________________________________________________\n"
          ],
          "name": "stdout"
        }
      ]
    },
    {
      "cell_type": "code",
      "metadata": {
        "id": "497gl4bEziho",
        "colab_type": "code",
        "outputId": "b5ae450d-d7a3-4d40-9012-2246ca96288f",
        "colab": {
          "base_uri": "https://localhost:8080/",
          "height": 34
        }
      },
      "source": [
        "idx_to_word_inp = dict((i,word) for word, i in ger_tokenizer.word_index.items())\n",
        "idx_to_word_op = dict((i,word) for word, i in eng_tokenizer.word_index.items())\n",
        "eng_tokenizer.word_index['<START>']"
      ],
      "execution_count": 38,
      "outputs": [
        {
          "output_type": "execute_result",
          "data": {
            "text/plain": [
              "1"
            ]
          },
          "metadata": {
            "tags": []
          },
          "execution_count": 38
        }
      ]
    },
    {
      "cell_type": "code",
      "metadata": {
        "id": "Brf7z0uJ056C",
        "colab_type": "code",
        "colab": {}
      },
      "source": [
        "def decode_seq(inp_seq):\n",
        "  \n",
        "  encoder_states = encoder_model.predict(inp_seq)\n",
        "  \n",
        "  target_seq = np.zeros(( 1, 1))\n",
        "  target_seq[0,0] = eng_tokenizer.word_index['<START>']\n",
        "  \n",
        "  stop = False\n",
        "  \n",
        "  sentence = \"\"\n",
        "  \n",
        "  while(not stop):\n",
        "    output_vec, h, c = decoder_model.predict([target_seq]+encoder_states)\n",
        "    op_id = np.argmax(output_vec[0,-1,:])\n",
        "    sampled_word = idx_to_word_op[op_id]\n",
        "    sentence+=\" \"+sampled_word\n",
        "    \n",
        "    #print(\"sampled:\", sampled_word)\n",
        "    \n",
        "    \n",
        "    if (sampled_word == \"<END>\" or len(sentence.split())>=eng_max_len):\n",
        "      stop = True\n",
        "    #print(stop)\n",
        "    target_seq = np.zeros(( 1, 1))\n",
        "    target_seq[0,0] =  op_id\n",
        "    \n",
        "    encoder_states = [h, c]\n",
        "    #print(output_vec.shape)\n",
        "  return sentence"
      ],
      "execution_count": 0,
      "outputs": []
    },
    {
      "cell_type": "markdown",
      "metadata": {
        "id": "OukDhep0YNCs",
        "colab_type": "text"
      },
      "source": [
        "PREDICTIONS.."
      ]
    },
    {
      "cell_type": "code",
      "metadata": {
        "id": "DoTdhngD671r",
        "colab_type": "code",
        "outputId": "60e6f9cf-2eba-47ab-bc00-abd3e719f86a",
        "colab": {
          "base_uri": "https://localhost:8080/",
          "height": 68
        }
      },
      "source": [
        "id = 256\n",
        "#X_train_inp[id:id+1].shape\n",
        "#print(X_train_inp[20:21])\n",
        "input_seq = X_test[id:id+1]\n",
        "op_seq = y_test[id:id+1]\n",
        "print(\"INPUT: \"+\" \".join([idx_to_word_inp[i] for i in input_seq[0] if i>0]))\n",
        "print(\"ACTUAL: \"+\" \".join([idx_to_word_op[i] for i in op_seq[0] if i>0]))\n",
        "input_seq\n",
        "print(\"PREDICTED: \",decode_seq(input_seq))"
      ],
      "execution_count": 47,
      "outputs": [
        {
          "output_type": "stream",
          "text": [
            "INPUT: gib acht\n",
            "ACTUAL: <START> be careful <END>\n",
            "PREDICTED:   be careful <END>\n"
          ],
          "name": "stdout"
        }
      ]
    },
    {
      "cell_type": "code",
      "metadata": {
        "id": "XxoPp-WVe_r7",
        "colab_type": "code",
        "colab": {}
      },
      "source": [
        "def custom_pred(sentence):\n",
        "  data = [sentence]\n",
        "  data = ger_tokenizer.texts_to_sequences(data)\n",
        "  data = pad_sequences(data, maxlen=ger_max_len, padding='post')\n",
        "  data = decode_seq(data).split()\n",
        "  data = \" \".join(data[:-1])\n",
        "  return data\n",
        "  "
      ],
      "execution_count": 0,
      "outputs": []
    },
    {
      "cell_type": "code",
      "metadata": {
        "id": "hep5tq-o8rkY",
        "colab_type": "code",
        "colab": {
          "base_uri": "https://localhost:8080/",
          "height": 34
        },
        "outputId": "c0cebf12-d00c-4dc2-b10f-134c0c532427"
      },
      "source": [
        "custom_pred(\"tolle arbeit\")"
      ],
      "execution_count": 87,
      "outputs": [
        {
          "output_type": "execute_result",
          "data": {
            "text/plain": [
              "'great job'"
            ]
          },
          "metadata": {
            "tags": []
          },
          "execution_count": 87
        }
      ]
    },
    {
      "cell_type": "code",
      "metadata": {
        "id": "mGgrHEwTF0Jw",
        "colab_type": "code",
        "colab": {}
      },
      "source": [
        ""
      ],
      "execution_count": 0,
      "outputs": []
    }
  ]
}