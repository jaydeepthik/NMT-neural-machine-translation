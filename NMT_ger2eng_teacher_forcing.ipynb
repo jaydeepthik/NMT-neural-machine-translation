{
  "nbformat": 4,
  "nbformat_minor": 0,
  "metadata": {
    "colab": {
      "name": "NMT_ger2eng_teacher_forcing.ipynb",
      "version": "0.3.2",
      "provenance": [],
      "collapsed_sections": [],
      "include_colab_link": true
    },
    "kernelspec": {
      "name": "python3",
      "display_name": "Python 3"
    },
    "accelerator": "GPU"
  },
  "cells": [
    {
      "cell_type": "markdown",
      "metadata": {
        "id": "view-in-github",
        "colab_type": "text"
      },
      "source": [
        "<a href=\"https://colab.research.google.com/github/jaydeepthik/NMT-neural-machine-translation/blob/master/NMT_ger2eng_teacher_forcing.ipynb\" target=\"_parent\"><img src=\"https://colab.research.google.com/assets/colab-badge.svg\" alt=\"Open In Colab\"/></a>"
      ]
    },
    {
      "cell_type": "code",
      "metadata": {
        "id": "lcebxS60aZlI",
        "colab_type": "code",
        "colab": {}
      },
      "source": [
        "from google.colab import drive\n",
        "drive.mount(\"/content/drive\")"
      ],
      "execution_count": 0,
      "outputs": []
    },
    {
      "cell_type": "code",
      "metadata": {
        "id": "iaQmvW1pZYuX",
        "colab_type": "code",
        "outputId": "3f849a67-47d9-4425-974c-f32d06bd3e5c",
        "colab": {
          "base_uri": "https://localhost:8080/",
          "height": 34
        }
      },
      "source": [
        "import numpy as np\n",
        "import string\n",
        "from unicodedata import normalize\n",
        "import re\n",
        "from keras.preprocessing.text import Tokenizer\n",
        "from keras.preprocessing.sequence import pad_sequences\n",
        "from keras.utils import to_categorical\n",
        "\n",
        "#read file and make pairs\n",
        "\n",
        "def read_file(file):\n",
        "    \n",
        "    with open(file, 'r', encoding='utf8') as f:\n",
        "        pairs = [line.strip().split('\\t') for line in f]\n",
        "        #print(pairs)\n",
        "    return pairs\n",
        "\n",
        "def preprocess_pairs(data):\n",
        "    cleaned = list()\n",
        "    re_punc = re.compile('[%s]' % re.escape(string.punctuation))\n",
        "    re_print = re.compile('[^%s]' % re.escape(string.printable))    \n",
        "    \n",
        "    for pairs in data:\n",
        "      clean_pair = list()\n",
        "      for i,line in enumerate(pairs):\n",
        "        line = normalize('NFD', line).encode('ascii', 'ignore')\n",
        "        line = line.decode('utf8')\n",
        "        line = line.lower()\n",
        "        line = line.split()\n",
        "        line = [re_punc.sub('', w) for w in line]\n",
        "        line = [re_print.sub('', w) for w in line]\n",
        "        line = [word for word in line if word.isalpha()]\n",
        "        #print(line)\n",
        "        if not i:\n",
        "          line = [\"<START>\"]+line+[\"<END>\"]\n",
        "        clean_pair.append(\" \".join(line))\n",
        "      cleaned.append(clean_pair)\n",
        "    return cleaned\n",
        "\n",
        "def encode_output(sequences, vocab_size):\n",
        "  ylist = list()\n",
        "  for sequence in sequences:\n",
        "    encode = to_categorical(sequence, vocab_size)\n",
        "    ylist.append(encode)\n",
        "  y = np.array(ylist)\n",
        "  y = y.reshape(sequences.shape[0], sequences.shape[1], vocab_size)\n",
        "  return y"
      ],
      "execution_count": 2,
      "outputs": [
        {
          "output_type": "stream",
          "text": [
            "Using TensorFlow backend.\n"
          ],
          "name": "stderr"
        }
      ]
    },
    {
      "cell_type": "code",
      "metadata": {
        "id": "vbIchCAmba_5",
        "colab_type": "code",
        "outputId": "384c02cf-3430-4d6b-e407-2c4bc5bfe668",
        "colab": {
          "base_uri": "https://localhost:8080/",
          "height": 85
        }
      },
      "source": [
        "data = read_file(\"/content/drive/My Drive/Colab Notebooks/nmt_data/deu-eng/deu.txt\")\n",
        "data = preprocess_pairs(data)\n",
        "#data = np.array(data)\n",
        "#np.random.shuffle(data)\n",
        "n_sentences = 10000\n",
        "\n",
        "reduced_data = data[:10000]\n",
        "reduced_data = np.array(reduced_data)\n",
        "np.random.shuffle(reduced_data)\n",
        "\n",
        "train_data, test_data = reduced_data[:9000], reduced_data[9000:]\n",
        "print(train_data[0])\n",
        "print(train_data[1])\n",
        "print(test_data[0])\n",
        "print(test_data[1])"
      ],
      "execution_count": 11,
      "outputs": [
        {
          "output_type": "stream",
          "text": [
            "['<START> shes my wife <END>' 'sie ist meine frau']\n",
            "['<START> tom agrees <END>' 'tom ist einverstanden']\n",
            "['<START> i like fish <END>' 'ich esse gerne fisch']\n",
            "['<START> we shook hands <END>' 'wir gaben uns die hand']\n"
          ],
          "name": "stdout"
        }
      ]
    },
    {
      "cell_type": "code",
      "metadata": {
        "id": "MyAzc_PNcRfG",
        "colab_type": "code",
        "colab": {}
      },
      "source": [
        "eng_tokenizer = Tokenizer(filters='\"#$%&()*+,./:;=@[\\\\]^_`{|}~\\t\\n', lower=False)\n",
        "eng_tokenizer.fit_on_texts(reduced_data[:,0])\n",
        "eng_vocab_size = len(eng_tokenizer.word_index) + 1\n",
        "eng_max_len = max(len(line.split()) for line in reduced_data[:,0])\n",
        "\n",
        "ger_tokenizer = Tokenizer(filters='\"#$%&()*+,./:;=@[\\\\]^_`{|}~\\t\\n', lower=False)\n",
        "ger_tokenizer.fit_on_texts(reduced_data[:,1])\n",
        "ger_vocab_size = len(ger_tokenizer.word_index)+1\n",
        "ger_max_len = max(len(line.split()) for line in reduced_data[:,1])\n",
        "\n",
        "\n",
        "X_train_inp = ger_tokenizer.texts_to_sequences(train_data[:,1])\n",
        "X_train_inp = pad_sequences(X_train_inp, maxlen=ger_max_len, padding='post')\n",
        "\n",
        "y_train = eng_tokenizer.texts_to_sequences(train_data[:,0])\n",
        "y_train_inp = pad_sequences(y_train, maxlen=eng_max_len, padding='post')\n",
        "\n",
        "\n",
        "#y_train_op = y_train[:,1:].tolist()\n",
        "y_train_op = pad_sequences(y_train, maxlen=eng_max_len+1, padding='post')\n",
        "y_train_op = y_train_op[:,1:]\n",
        "y_train_op_encoded = encode_output(y_train_op, eng_vocab_size)\n",
        "\n",
        "#print(y_train_op[0])\n",
        "X_test = ger_tokenizer.texts_to_sequences(test_data[:,1])\n",
        "X_test = pad_sequences(X_test, maxlen=ger_max_len, padding='post')\n",
        "\n",
        "\n",
        "y_test = eng_tokenizer.texts_to_sequences(test_data[:,0])\n",
        "y_test = pad_sequences(y_test, maxlen=eng_max_len, padding='post')\n",
        "y_test_enc = encode_output(y_test, eng_vocab_size)\n",
        "\n",
        "\n"
      ],
      "execution_count": 0,
      "outputs": []
    },
    {
      "cell_type": "code",
      "metadata": {
        "id": "YcYImAfH41JU",
        "colab_type": "code",
        "outputId": "7cfa9015-fdd2-4ed1-9b5d-2380ffd05563",
        "colab": {
          "base_uri": "https://localhost:8080/",
          "height": 51
        }
      },
      "source": [
        "print(y_train_inp.shape, y_train_op.shape, y_train_op_encoded.shape)\n",
        "print(y_train_inp[0], y_train_op[0])"
      ],
      "execution_count": 39,
      "outputs": [
        {
          "output_type": "stream",
          "text": [
            "(9000, 7) (9000, 7) (9000, 7, 2235)\n",
            "[  1 235  25 427   2   0   0] [235  25 427   2   0   0   0]\n"
          ],
          "name": "stdout"
        }
      ]
    },
    {
      "cell_type": "markdown",
      "metadata": {
        "id": "a1LPtY2jifnk",
        "colab_type": "text"
      },
      "source": [
        "ENGLISH 2 GERMAN"
      ]
    },
    {
      "cell_type": "code",
      "metadata": {
        "id": "5KKo4WRxb1nT",
        "colab_type": "code",
        "outputId": "41dca80f-8046-4925-dca3-d51d2485d671",
        "colab": {
          "base_uri": "https://localhost:8080/",
          "height": 1462
        }
      },
      "source": [
        "#model ger -> eng\n",
        "from keras.models import Model\n",
        "from keras.layers import LSTM, Dense, Input, Embedding, TimeDistributed\n",
        "\n",
        "g2e_enc_inp = Input(shape=(None,))\n",
        "g2e_enc_emb = Embedding(input_dim=ger_vocab_size, output_dim=300, mask_zero=True)\n",
        "g2e_enc_x   = g2e_enc_emb(g2e_enc_inp)\n",
        "g2e_enc_lstm  = LSTM(256, return_state=True)\n",
        "g2e_enc_x, g2e_state_h, g2e_state_c = g2e_enc_lstm(g2e_enc_x)\n",
        "g2e_states = [g2e_state_h, g2e_state_c]\n",
        "\n",
        "g2e_dec_inp = Input(shape=(None,))\n",
        "g2e_dec_emb = Embedding(input_dim=eng_vocab_size, output_dim=300, mask_zero=True)\n",
        "g2e_dec_x = g2e_dec_emb(g2e_dec_inp)\n",
        "g2e_dec_lstm = LSTM(256, return_sequences=True, return_state=True)\n",
        "g2e_dec_x,_,_ = g2e_dec_lstm(g2e_dec_x, initial_state=g2e_states)\n",
        "g2e_dec_dense= Dense(eng_vocab_size, activation='softmax')\n",
        "\n",
        "g2e_dec_op = g2e_dec_dense(g2e_dec_x)\n",
        "\n",
        "g2e_model =  Model([g2e_enc_inp, g2e_dec_inp], g2e_dec_op)\n",
        "g2e_model.compile(optimizer='rmsprop', loss='categorical_crossentropy', metrics=['acc'])\n",
        "g2e_model.summary()\n",
        "g2e_model.fit([X_train_inp, y_train_inp], y_train_op_encoded, batch_size=64, epochs=30, validation_split=0.2,shuffle=True)\n"
      ],
      "execution_count": 34,
      "outputs": [
        {
          "output_type": "stream",
          "text": [
            "__________________________________________________________________________________________________\n",
            "Layer (type)                    Output Shape         Param #     Connected to                     \n",
            "==================================================================================================\n",
            "input_13 (InputLayer)           (None, None)         0                                            \n",
            "__________________________________________________________________________________________________\n",
            "input_14 (InputLayer)           (None, None)         0                                            \n",
            "__________________________________________________________________________________________________\n",
            "embedding_7 (Embedding)         (None, None, 300)    1069800     input_13[0][0]                   \n",
            "__________________________________________________________________________________________________\n",
            "embedding_8 (Embedding)         (None, None, 300)    670500      input_14[0][0]                   \n",
            "__________________________________________________________________________________________________\n",
            "lstm_7 (LSTM)                   [(None, 256), (None, 570368      embedding_7[0][0]                \n",
            "__________________________________________________________________________________________________\n",
            "lstm_8 (LSTM)                   [(None, None, 256),  570368      embedding_8[0][0]                \n",
            "                                                                 lstm_7[0][1]                     \n",
            "                                                                 lstm_7[0][2]                     \n",
            "__________________________________________________________________________________________________\n",
            "dense_4 (Dense)                 (None, None, 2235)   574395      lstm_8[0][0]                     \n",
            "==================================================================================================\n",
            "Total params: 3,455,431\n",
            "Trainable params: 3,455,431\n",
            "Non-trainable params: 0\n",
            "__________________________________________________________________________________________________\n",
            "Train on 7200 samples, validate on 1800 samples\n",
            "Epoch 1/30\n",
            "7200/7200 [==============================] - 6s 897us/step - loss: 3.8648 - acc: 0.4161 - val_loss: 3.2697 - val_acc: 0.4867\n",
            "Epoch 2/30\n",
            "7200/7200 [==============================] - 4s 605us/step - loss: 2.9465 - acc: 0.5124 - val_loss: 2.8494 - val_acc: 0.5283\n",
            "Epoch 3/30\n",
            "7200/7200 [==============================] - 5s 680us/step - loss: 2.5894 - acc: 0.5552 - val_loss: 2.6495 - val_acc: 0.5639\n",
            "Epoch 4/30\n",
            "7200/7200 [==============================] - 5s 662us/step - loss: 2.3359 - acc: 0.5933 - val_loss: 2.4787 - val_acc: 0.5957\n",
            "Epoch 5/30\n",
            "7200/7200 [==============================] - 4s 591us/step - loss: 2.1373 - acc: 0.6187 - val_loss: 2.3468 - val_acc: 0.6115\n",
            "Epoch 6/30\n",
            "7200/7200 [==============================] - 4s 592us/step - loss: 1.9667 - acc: 0.6404 - val_loss: 2.2231 - val_acc: 0.6306\n",
            "Epoch 7/30\n",
            "7200/7200 [==============================] - 4s 590us/step - loss: 1.8195 - acc: 0.6591 - val_loss: 2.1530 - val_acc: 0.6437\n",
            "Epoch 8/30\n",
            "7200/7200 [==============================] - 4s 597us/step - loss: 1.6831 - acc: 0.6790 - val_loss: 2.0862 - val_acc: 0.6470\n",
            "Epoch 9/30\n",
            "7200/7200 [==============================] - 4s 595us/step - loss: 1.5645 - acc: 0.6969 - val_loss: 2.0234 - val_acc: 0.6638\n",
            "Epoch 10/30\n",
            "7200/7200 [==============================] - 4s 616us/step - loss: 1.4538 - acc: 0.7156 - val_loss: 1.9655 - val_acc: 0.6699\n",
            "Epoch 11/30\n",
            "7200/7200 [==============================] - 5s 693us/step - loss: 1.3498 - acc: 0.7326 - val_loss: 1.9305 - val_acc: 0.6728\n",
            "Epoch 12/30\n",
            "7200/7200 [==============================] - 5s 689us/step - loss: 1.2486 - acc: 0.7498 - val_loss: 1.8630 - val_acc: 0.6862\n",
            "Epoch 13/30\n",
            "7200/7200 [==============================] - 4s 590us/step - loss: 1.1527 - acc: 0.7681 - val_loss: 1.8345 - val_acc: 0.6906\n",
            "Epoch 14/30\n",
            "7200/7200 [==============================] - 4s 585us/step - loss: 1.0650 - acc: 0.7874 - val_loss: 1.8135 - val_acc: 0.6944\n",
            "Epoch 15/30\n",
            "7200/7200 [==============================] - 4s 583us/step - loss: 0.9808 - acc: 0.8047 - val_loss: 1.7777 - val_acc: 0.7009\n",
            "Epoch 16/30\n",
            "7200/7200 [==============================] - 4s 587us/step - loss: 0.9040 - acc: 0.8223 - val_loss: 1.7396 - val_acc: 0.7071\n",
            "Epoch 17/30\n",
            "7200/7200 [==============================] - 4s 587us/step - loss: 0.8342 - acc: 0.8345 - val_loss: 1.7202 - val_acc: 0.7094\n",
            "Epoch 18/30\n",
            "7200/7200 [==============================] - 4s 593us/step - loss: 0.7657 - acc: 0.8492 - val_loss: 1.7220 - val_acc: 0.7165\n",
            "Epoch 19/30\n",
            "7200/7200 [==============================] - 4s 590us/step - loss: 0.6995 - acc: 0.8638 - val_loss: 1.6968 - val_acc: 0.7203\n",
            "Epoch 20/30\n",
            "7200/7200 [==============================] - 4s 589us/step - loss: 0.6385 - acc: 0.8778 - val_loss: 1.6953 - val_acc: 0.7199\n",
            "Epoch 21/30\n",
            "7200/7200 [==============================] - 5s 672us/step - loss: 0.5845 - acc: 0.8882 - val_loss: 1.6808 - val_acc: 0.7232\n",
            "Epoch 22/30\n",
            "7200/7200 [==============================] - 5s 673us/step - loss: 0.5342 - acc: 0.8993 - val_loss: 1.6757 - val_acc: 0.7284\n",
            "Epoch 23/30\n",
            "7200/7200 [==============================] - 4s 588us/step - loss: 0.4898 - acc: 0.9086 - val_loss: 1.6784 - val_acc: 0.7334\n",
            "Epoch 24/30\n",
            "7200/7200 [==============================] - 4s 583us/step - loss: 0.4487 - acc: 0.9174 - val_loss: 1.6638 - val_acc: 0.7337\n",
            "Epoch 25/30\n",
            "7200/7200 [==============================] - 4s 585us/step - loss: 0.4086 - acc: 0.9267 - val_loss: 1.6816 - val_acc: 0.7332\n",
            "Epoch 26/30\n",
            "7200/7200 [==============================] - 5s 630us/step - loss: 0.3762 - acc: 0.9321 - val_loss: 1.6535 - val_acc: 0.7372\n",
            "Epoch 27/30\n",
            "7200/7200 [==============================] - 5s 656us/step - loss: 0.3442 - acc: 0.9395 - val_loss: 1.6719 - val_acc: 0.7343\n",
            "Epoch 28/30\n",
            "7200/7200 [==============================] - 4s 595us/step - loss: 0.3181 - acc: 0.9439 - val_loss: 1.6837 - val_acc: 0.7351\n",
            "Epoch 29/30\n",
            "7200/7200 [==============================] - 4s 589us/step - loss: 0.2921 - acc: 0.9471 - val_loss: 1.6709 - val_acc: 0.7408\n",
            "Epoch 30/30\n",
            "7200/7200 [==============================] - 4s 592us/step - loss: 0.2672 - acc: 0.9525 - val_loss: 1.6700 - val_acc: 0.7388\n"
          ],
          "name": "stdout"
        },
        {
          "output_type": "execute_result",
          "data": {
            "text/plain": [
              "<keras.callbacks.History at 0x7f37a3efefd0>"
            ]
          },
          "metadata": {
            "tags": []
          },
          "execution_count": 34
        }
      ]
    },
    {
      "cell_type": "markdown",
      "metadata": {
        "id": "0sCc9tLHoOI9",
        "colab_type": "text"
      },
      "source": [
        "INFERENCE MODEL"
      ]
    },
    {
      "cell_type": "code",
      "metadata": {
        "id": "Eq_yYmjdoLN_",
        "colab_type": "code",
        "outputId": "addf8092-8e9c-4dc9-fdad-d93ee8e58799",
        "colab": {
          "base_uri": "https://localhost:8080/",
          "height": 374
        }
      },
      "source": [
        "encoder_model = Model(g2e_enc_inp,g2e_states)\n",
        "\n",
        "decoder_state_inp_h = Input(shape=(256, ))\n",
        "decoder_state_inp_c = Input(shape=(256, ))\n",
        "decoder_state_inp = [decoder_state_inp_h, decoder_state_inp_c]\n",
        "\n",
        "dec_x_inp = g2e_dec_emb(g2e_dec_inp)\n",
        "decoder_outputs, state_h, state_c = g2e_dec_lstm(dec_x_inp , initial_state=decoder_state_inp)\n",
        "decoder_states = [state_h, state_c]\n",
        "\n",
        "decoder_outputs = g2e_dec_dense(decoder_outputs)\n",
        "\n",
        "decoder_model = Model([g2e_dec_inp]+decoder_state_inp,[decoder_outputs]+decoder_states)\n",
        "decoder_model.summary()"
      ],
      "execution_count": 35,
      "outputs": [
        {
          "output_type": "stream",
          "text": [
            "__________________________________________________________________________________________________\n",
            "Layer (type)                    Output Shape         Param #     Connected to                     \n",
            "==================================================================================================\n",
            "input_14 (InputLayer)           (None, None)         0                                            \n",
            "__________________________________________________________________________________________________\n",
            "embedding_8 (Embedding)         (None, None, 300)    670500      input_14[0][0]                   \n",
            "__________________________________________________________________________________________________\n",
            "input_15 (InputLayer)           (None, 256)          0                                            \n",
            "__________________________________________________________________________________________________\n",
            "input_16 (InputLayer)           (None, 256)          0                                            \n",
            "__________________________________________________________________________________________________\n",
            "lstm_8 (LSTM)                   [(None, None, 256),  570368      embedding_8[1][0]                \n",
            "                                                                 input_15[0][0]                   \n",
            "                                                                 input_16[0][0]                   \n",
            "__________________________________________________________________________________________________\n",
            "dense_4 (Dense)                 (None, None, 2235)   574395      lstm_8[1][0]                     \n",
            "==================================================================================================\n",
            "Total params: 1,815,263\n",
            "Trainable params: 1,815,263\n",
            "Non-trainable params: 0\n",
            "__________________________________________________________________________________________________\n"
          ],
          "name": "stdout"
        }
      ]
    },
    {
      "cell_type": "code",
      "metadata": {
        "id": "497gl4bEziho",
        "colab_type": "code",
        "outputId": "d2057434-87d8-4be1-b2a3-12fce40a9a5b",
        "colab": {
          "base_uri": "https://localhost:8080/",
          "height": 34
        }
      },
      "source": [
        "idx_to_word_inp = dict((i,word) for word, i in ger_tokenizer.word_index.items())\n",
        "idx_to_word_op = dict((i,word) for word, i in eng_tokenizer.word_index.items())\n",
        "eng_tokenizer.word_index['<START>']"
      ],
      "execution_count": 36,
      "outputs": [
        {
          "output_type": "execute_result",
          "data": {
            "text/plain": [
              "1"
            ]
          },
          "metadata": {
            "tags": []
          },
          "execution_count": 36
        }
      ]
    },
    {
      "cell_type": "code",
      "metadata": {
        "id": "Brf7z0uJ056C",
        "colab_type": "code",
        "colab": {}
      },
      "source": [
        "def decode_seq(inp_seq):\n",
        "  \n",
        "  encoder_states = encoder_model.predict(inp_seq)\n",
        "  \n",
        "  target_seq = np.zeros(( 1, 1))\n",
        "  target_seq[0,0] = eng_tokenizer.word_index['<START>']\n",
        "  \n",
        "  stop = False\n",
        "  \n",
        "  sentence = \"\"\n",
        "  \n",
        "  while(not stop):\n",
        "    output_vec, h, c = decoder_model.predict([target_seq]+encoder_states)\n",
        "    op_id = np.argmax(output_vec[0,0,:])\n",
        "    sampled_word = idx_to_word_op[op_id]\n",
        "    sentence+=\" \"+sampled_word\n",
        "    \n",
        "    #print(\"sampled:\", sampled_word)\n",
        "    \n",
        "    \n",
        "    if (sampled_word == \"<END>\" or len(sentence.split())>=eng_max_len):\n",
        "      stop = True\n",
        "    #print(stop)  \n",
        "    target_seq[0,0] =  op_id\n",
        "    \n",
        "    encoder_states = [h, c]\n",
        "    #print(output_vec.shape)\n",
        "  return sentence"
      ],
      "execution_count": 0,
      "outputs": []
    },
    {
      "cell_type": "code",
      "metadata": {
        "id": "DoTdhngD671r",
        "colab_type": "code",
        "outputId": "a8acdf14-52bd-41cd-8878-29279c6a9074",
        "colab": {
          "base_uri": "https://localhost:8080/",
          "height": 68
        }
      },
      "source": [
        "\n",
        "input_seq = X_train_inp[10]\n",
        "op_seq = y_train[10]\n",
        "print(\" \".join([idx_to_word_inp[i] for i in input_seq if i>0]))\n",
        "print(\" \".join([idx_to_word_op[i] for i in op_seq if i>0]))\n",
        "input_seq\n",
        "\n",
        "decode_seq(input_seq)"
      ],
      "execution_count": 43,
      "outputs": [
        {
          "output_type": "stream",
          "text": [
            "sie hat ihn erwurgt\n",
            "<START> she choked him <END>\n"
          ],
          "name": "stdout"
        },
        {
          "output_type": "execute_result",
          "data": {
            "text/plain": [
              "' do you smoke <END>'"
            ]
          },
          "metadata": {
            "tags": []
          },
          "execution_count": 43
        }
      ]
    },
    {
      "cell_type": "code",
      "metadata": {
        "id": "T9hsUQyzXLyR",
        "colab_type": "code",
        "colab": {
          "base_uri": "https://localhost:8080/",
          "height": 34
        },
        "outputId": "dab3c4df-bed3-4389-b9f5-e4d627604da2"
      },
      "source": [
        "eng_vocab_size"
      ],
      "execution_count": 24,
      "outputs": [
        {
          "output_type": "execute_result",
          "data": {
            "text/plain": [
              "2235"
            ]
          },
          "metadata": {
            "tags": []
          },
          "execution_count": 24
        }
      ]
    },
    {
      "cell_type": "code",
      "metadata": {
        "id": "XxoPp-WVe_r7",
        "colab_type": "code",
        "colab": {}
      },
      "source": [
        ""
      ],
      "execution_count": 0,
      "outputs": []
    },
    {
      "cell_type": "code",
      "metadata": {
        "id": "hep5tq-o8rkY",
        "colab_type": "code",
        "colab": {}
      },
      "source": [
        ""
      ],
      "execution_count": 0,
      "outputs": []
    }
  ]
}